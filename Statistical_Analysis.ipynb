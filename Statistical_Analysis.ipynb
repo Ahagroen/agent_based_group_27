{
 "cells": [
  {
   "cell_type": "code",
   "execution_count": 1,
   "id": "1b545a70",
   "metadata": {},
   "outputs": [
    {
     "name": "stderr",
     "output_type": "stream",
     "text": [
      "RAYLIB STATIC 5.5.0.2 LOADED\n"
     ]
    },
    {
     "name": "stdout",
     "output_type": "stream",
     "text": [
      "\n",
      "Running simulations for GREEDY\n",
      "0\n"
     ]
    },
    {
     "name": "stderr",
     "output_type": "stream",
     "text": [
      "\u001b[32m2025-04-27 23:19:48.307\u001b[0m | \u001b[33m\u001b[1mWARNING \u001b[0m | \u001b[36msrc.simulation\u001b[0m:\u001b[36mrun_simulation\u001b[0m:\u001b[36m261\u001b[0m - \u001b[33m\u001b[1mSimulation Ended!\n",
      "reason: Status.Success\u001b[0m\n"
     ]
    },
    {
     "name": "stdout",
     "output_type": "stream",
     "text": [
      "SIM RUN: 1/1\n",
      "SIM RUN SUCCESS: 1/1, 100.0%\n",
      "1\n"
     ]
    },
    {
     "name": "stderr",
     "output_type": "stream",
     "text": [
      "\u001b[32m2025-04-27 23:19:52.044\u001b[0m | \u001b[33m\u001b[1mWARNING \u001b[0m | \u001b[36msrc.simulation\u001b[0m:\u001b[36mrun_simulation\u001b[0m:\u001b[36m261\u001b[0m - \u001b[33m\u001b[1mSimulation Ended!\n",
      "reason: Status.Success\u001b[0m\n"
     ]
    },
    {
     "name": "stdout",
     "output_type": "stream",
     "text": [
      "SIM RUN: 1/1\n",
      "SIM RUN SUCCESS: 1/1, 100.0%\n",
      "2\n"
     ]
    },
    {
     "name": "stderr",
     "output_type": "stream",
     "text": [
      "\u001b[32m2025-04-27 23:19:55.232\u001b[0m | \u001b[33m\u001b[1mWARNING \u001b[0m | \u001b[36msrc.simulation\u001b[0m:\u001b[36mrun_simulation\u001b[0m:\u001b[36m261\u001b[0m - \u001b[33m\u001b[1mSimulation Ended!\n",
      "reason: Status.Success\u001b[0m\n"
     ]
    },
    {
     "name": "stdout",
     "output_type": "stream",
     "text": [
      "SIM RUN: 1/1\n",
      "SIM RUN SUCCESS: 1/1, 100.0%\n",
      "3\n"
     ]
    },
    {
     "name": "stderr",
     "output_type": "stream",
     "text": [
      "\u001b[32m2025-04-27 23:19:58.970\u001b[0m | \u001b[33m\u001b[1mWARNING \u001b[0m | \u001b[36msrc.simulation\u001b[0m:\u001b[36mrun_simulation\u001b[0m:\u001b[36m261\u001b[0m - \u001b[33m\u001b[1mSimulation Ended!\n",
      "reason: Status.Success\u001b[0m\n"
     ]
    },
    {
     "name": "stdout",
     "output_type": "stream",
     "text": [
      "SIM RUN: 1/1\n",
      "SIM RUN SUCCESS: 1/1, 100.0%\n",
      "4\n"
     ]
    },
    {
     "name": "stderr",
     "output_type": "stream",
     "text": [
      "\u001b[32m2025-04-27 23:20:02.634\u001b[0m | \u001b[33m\u001b[1mWARNING \u001b[0m | \u001b[36msrc.simulation\u001b[0m:\u001b[36mrun_simulation\u001b[0m:\u001b[36m261\u001b[0m - \u001b[33m\u001b[1mSimulation Ended!\n",
      "reason: Status.Success\u001b[0m\n"
     ]
    },
    {
     "name": "stdout",
     "output_type": "stream",
     "text": [
      "SIM RUN: 1/1\n",
      "SIM RUN SUCCESS: 1/1, 100.0%\n",
      "5\n"
     ]
    },
    {
     "name": "stderr",
     "output_type": "stream",
     "text": [
      "\u001b[32m2025-04-27 23:20:05.903\u001b[0m | \u001b[33m\u001b[1mWARNING \u001b[0m | \u001b[36msrc.simulation\u001b[0m:\u001b[36mrun_simulation\u001b[0m:\u001b[36m261\u001b[0m - \u001b[33m\u001b[1mSimulation Ended!\n",
      "reason: Status.Success\u001b[0m\n"
     ]
    },
    {
     "name": "stdout",
     "output_type": "stream",
     "text": [
      "SIM RUN: 1/1\n",
      "SIM RUN SUCCESS: 1/1, 100.0%\n",
      "6\n"
     ]
    },
    {
     "name": "stderr",
     "output_type": "stream",
     "text": [
      "\u001b[32m2025-04-27 23:20:09.342\u001b[0m | \u001b[33m\u001b[1mWARNING \u001b[0m | \u001b[36msrc.simulation\u001b[0m:\u001b[36mrun_simulation\u001b[0m:\u001b[36m261\u001b[0m - \u001b[33m\u001b[1mSimulation Ended!\n",
      "reason: Status.Success\u001b[0m\n"
     ]
    },
    {
     "name": "stdout",
     "output_type": "stream",
     "text": [
      "SIM RUN: 1/1\n",
      "SIM RUN SUCCESS: 1/1, 100.0%\n",
      "7\n"
     ]
    },
    {
     "name": "stderr",
     "output_type": "stream",
     "text": [
      "\u001b[32m2025-04-27 23:20:12.521\u001b[0m | \u001b[33m\u001b[1mWARNING \u001b[0m | \u001b[36msrc.simulation\u001b[0m:\u001b[36mrun_simulation\u001b[0m:\u001b[36m261\u001b[0m - \u001b[33m\u001b[1mSimulation Ended!\n",
      "reason: Status.Success\u001b[0m\n"
     ]
    },
    {
     "name": "stdout",
     "output_type": "stream",
     "text": [
      "SIM RUN: 1/1\n",
      "SIM RUN SUCCESS: 1/1, 100.0%\n",
      "8\n"
     ]
    },
    {
     "name": "stderr",
     "output_type": "stream",
     "text": [
      "\u001b[32m2025-04-27 23:20:15.964\u001b[0m | \u001b[33m\u001b[1mWARNING \u001b[0m | \u001b[36msrc.simulation\u001b[0m:\u001b[36mrun_simulation\u001b[0m:\u001b[36m261\u001b[0m - \u001b[33m\u001b[1mSimulation Ended!\n",
      "reason: Status.Success\u001b[0m\n"
     ]
    },
    {
     "name": "stdout",
     "output_type": "stream",
     "text": [
      "SIM RUN: 1/1\n",
      "SIM RUN SUCCESS: 1/1, 100.0%\n",
      "9\n"
     ]
    },
    {
     "name": "stderr",
     "output_type": "stream",
     "text": [
      "\u001b[32m2025-04-27 23:20:19.293\u001b[0m | \u001b[33m\u001b[1mWARNING \u001b[0m | \u001b[36msrc.simulation\u001b[0m:\u001b[36mrun_simulation\u001b[0m:\u001b[36m261\u001b[0m - \u001b[33m\u001b[1mSimulation Ended!\n",
      "reason: Status.Success\u001b[0m\n"
     ]
    },
    {
     "name": "stdout",
     "output_type": "stream",
     "text": [
      "SIM RUN: 1/1\n",
      "SIM RUN SUCCESS: 1/1, 100.0%\n",
      "10\n"
     ]
    },
    {
     "name": "stderr",
     "output_type": "stream",
     "text": [
      "\u001b[32m2025-04-27 23:20:22.672\u001b[0m | \u001b[33m\u001b[1mWARNING \u001b[0m | \u001b[36msrc.simulation\u001b[0m:\u001b[36mrun_simulation\u001b[0m:\u001b[36m261\u001b[0m - \u001b[33m\u001b[1mSimulation Ended!\n",
      "reason: Status.Success\u001b[0m\n"
     ]
    },
    {
     "name": "stdout",
     "output_type": "stream",
     "text": [
      "SIM RUN: 1/1\n",
      "SIM RUN SUCCESS: 1/1, 100.0%\n",
      "11\n"
     ]
    },
    {
     "name": "stderr",
     "output_type": "stream",
     "text": [
      "\u001b[32m2025-04-27 23:20:25.793\u001b[0m | \u001b[33m\u001b[1mWARNING \u001b[0m | \u001b[36msrc.simulation\u001b[0m:\u001b[36mrun_simulation\u001b[0m:\u001b[36m261\u001b[0m - \u001b[33m\u001b[1mSimulation Ended!\n",
      "reason: Status.Success\u001b[0m\n"
     ]
    },
    {
     "name": "stdout",
     "output_type": "stream",
     "text": [
      "SIM RUN: 1/1\n",
      "SIM RUN SUCCESS: 1/1, 100.0%\n",
      "12\n"
     ]
    },
    {
     "name": "stderr",
     "output_type": "stream",
     "text": [
      "\u001b[32m2025-04-27 23:20:29.256\u001b[0m | \u001b[33m\u001b[1mWARNING \u001b[0m | \u001b[36msrc.simulation\u001b[0m:\u001b[36mrun_simulation\u001b[0m:\u001b[36m261\u001b[0m - \u001b[33m\u001b[1mSimulation Ended!\n",
      "reason: Status.Success\u001b[0m\n"
     ]
    },
    {
     "name": "stdout",
     "output_type": "stream",
     "text": [
      "SIM RUN: 1/1\n",
      "SIM RUN SUCCESS: 1/1, 100.0%\n",
      "13\n"
     ]
    },
    {
     "name": "stderr",
     "output_type": "stream",
     "text": [
      "\u001b[32m2025-04-27 23:20:32.596\u001b[0m | \u001b[33m\u001b[1mWARNING \u001b[0m | \u001b[36msrc.simulation\u001b[0m:\u001b[36mrun_simulation\u001b[0m:\u001b[36m261\u001b[0m - \u001b[33m\u001b[1mSimulation Ended!\n",
      "reason: Status.Success\u001b[0m\n"
     ]
    },
    {
     "name": "stdout",
     "output_type": "stream",
     "text": [
      "SIM RUN: 1/1\n",
      "SIM RUN SUCCESS: 1/1, 100.0%\n",
      "14\n"
     ]
    },
    {
     "name": "stderr",
     "output_type": "stream",
     "text": [
      "\u001b[32m2025-04-27 23:20:35.892\u001b[0m | \u001b[33m\u001b[1mWARNING \u001b[0m | \u001b[36msrc.simulation\u001b[0m:\u001b[36mrun_simulation\u001b[0m:\u001b[36m261\u001b[0m - \u001b[33m\u001b[1mSimulation Ended!\n",
      "reason: Status.Success\u001b[0m\n"
     ]
    },
    {
     "name": "stdout",
     "output_type": "stream",
     "text": [
      "SIM RUN: 1/1\n",
      "SIM RUN SUCCESS: 1/1, 100.0%\n",
      "15\n"
     ]
    },
    {
     "name": "stderr",
     "output_type": "stream",
     "text": [
      "\u001b[32m2025-04-27 23:20:39.555\u001b[0m | \u001b[33m\u001b[1mWARNING \u001b[0m | \u001b[36msrc.simulation\u001b[0m:\u001b[36mrun_simulation\u001b[0m:\u001b[36m261\u001b[0m - \u001b[33m\u001b[1mSimulation Ended!\n",
      "reason: Status.Success\u001b[0m\n"
     ]
    },
    {
     "name": "stdout",
     "output_type": "stream",
     "text": [
      "SIM RUN: 1/1\n",
      "SIM RUN SUCCESS: 1/1, 100.0%\n",
      "16\n"
     ]
    },
    {
     "name": "stderr",
     "output_type": "stream",
     "text": [
      "\u001b[32m2025-04-27 23:20:43.109\u001b[0m | \u001b[33m\u001b[1mWARNING \u001b[0m | \u001b[36msrc.simulation\u001b[0m:\u001b[36mrun_simulation\u001b[0m:\u001b[36m261\u001b[0m - \u001b[33m\u001b[1mSimulation Ended!\n",
      "reason: Status.Success\u001b[0m\n"
     ]
    },
    {
     "name": "stdout",
     "output_type": "stream",
     "text": [
      "SIM RUN: 1/1\n",
      "SIM RUN SUCCESS: 1/1, 100.0%\n",
      "17\n"
     ]
    },
    {
     "name": "stderr",
     "output_type": "stream",
     "text": [
      "\u001b[32m2025-04-27 23:20:46.352\u001b[0m | \u001b[33m\u001b[1mWARNING \u001b[0m | \u001b[36msrc.simulation\u001b[0m:\u001b[36mrun_simulation\u001b[0m:\u001b[36m261\u001b[0m - \u001b[33m\u001b[1mSimulation Ended!\n",
      "reason: Status.Success\u001b[0m\n"
     ]
    },
    {
     "name": "stdout",
     "output_type": "stream",
     "text": [
      "SIM RUN: 1/1\n",
      "SIM RUN SUCCESS: 1/1, 100.0%\n",
      "18\n"
     ]
    },
    {
     "name": "stderr",
     "output_type": "stream",
     "text": [
      "\u001b[32m2025-04-27 23:20:49.851\u001b[0m | \u001b[33m\u001b[1mWARNING \u001b[0m | \u001b[36msrc.simulation\u001b[0m:\u001b[36mrun_simulation\u001b[0m:\u001b[36m261\u001b[0m - \u001b[33m\u001b[1mSimulation Ended!\n",
      "reason: Status.Success\u001b[0m\n"
     ]
    },
    {
     "name": "stdout",
     "output_type": "stream",
     "text": [
      "SIM RUN: 1/1\n",
      "SIM RUN SUCCESS: 1/1, 100.0%\n",
      "19\n"
     ]
    },
    {
     "name": "stderr",
     "output_type": "stream",
     "text": [
      "\u001b[32m2025-04-27 23:20:53.442\u001b[0m | \u001b[33m\u001b[1mWARNING \u001b[0m | \u001b[36msrc.simulation\u001b[0m:\u001b[36mrun_simulation\u001b[0m:\u001b[36m261\u001b[0m - \u001b[33m\u001b[1mSimulation Ended!\n",
      "reason: Status.Success\u001b[0m\n"
     ]
    },
    {
     "name": "stdout",
     "output_type": "stream",
     "text": [
      "SIM RUN: 1/1\n",
      "SIM RUN SUCCESS: 1/1, 100.0%\n",
      "20\n"
     ]
    },
    {
     "name": "stderr",
     "output_type": "stream",
     "text": [
      "\u001b[32m2025-04-27 23:20:56.948\u001b[0m | \u001b[33m\u001b[1mWARNING \u001b[0m | \u001b[36msrc.simulation\u001b[0m:\u001b[36mrun_simulation\u001b[0m:\u001b[36m261\u001b[0m - \u001b[33m\u001b[1mSimulation Ended!\n",
      "reason: Status.Success\u001b[0m\n"
     ]
    },
    {
     "name": "stdout",
     "output_type": "stream",
     "text": [
      "SIM RUN: 1/1\n",
      "SIM RUN SUCCESS: 1/1, 100.0%\n",
      "21\n"
     ]
    },
    {
     "name": "stderr",
     "output_type": "stream",
     "text": [
      "\u001b[32m2025-04-27 23:21:00.336\u001b[0m | \u001b[33m\u001b[1mWARNING \u001b[0m | \u001b[36msrc.simulation\u001b[0m:\u001b[36mrun_simulation\u001b[0m:\u001b[36m261\u001b[0m - \u001b[33m\u001b[1mSimulation Ended!\n",
      "reason: Status.Success\u001b[0m\n"
     ]
    },
    {
     "name": "stdout",
     "output_type": "stream",
     "text": [
      "SIM RUN: 1/1\n",
      "SIM RUN SUCCESS: 1/1, 100.0%\n",
      "22\n"
     ]
    },
    {
     "name": "stderr",
     "output_type": "stream",
     "text": [
      "\u001b[32m2025-04-27 23:21:04.073\u001b[0m | \u001b[33m\u001b[1mWARNING \u001b[0m | \u001b[36msrc.simulation\u001b[0m:\u001b[36mrun_simulation\u001b[0m:\u001b[36m261\u001b[0m - \u001b[33m\u001b[1mSimulation Ended!\n",
      "reason: Status.Success\u001b[0m\n"
     ]
    },
    {
     "name": "stdout",
     "output_type": "stream",
     "text": [
      "SIM RUN: 1/1\n",
      "SIM RUN SUCCESS: 1/1, 100.0%\n",
      "23\n"
     ]
    },
    {
     "name": "stderr",
     "output_type": "stream",
     "text": [
      "\u001b[32m2025-04-27 23:21:07.644\u001b[0m | \u001b[33m\u001b[1mWARNING \u001b[0m | \u001b[36msrc.simulation\u001b[0m:\u001b[36mrun_simulation\u001b[0m:\u001b[36m261\u001b[0m - \u001b[33m\u001b[1mSimulation Ended!\n",
      "reason: Status.Success\u001b[0m\n"
     ]
    },
    {
     "name": "stdout",
     "output_type": "stream",
     "text": [
      "SIM RUN: 1/1\n",
      "SIM RUN SUCCESS: 1/1, 100.0%\n",
      "24\n"
     ]
    },
    {
     "name": "stderr",
     "output_type": "stream",
     "text": [
      "\u001b[32m2025-04-27 23:21:11.190\u001b[0m | \u001b[33m\u001b[1mWARNING \u001b[0m | \u001b[36msrc.simulation\u001b[0m:\u001b[36mrun_simulation\u001b[0m:\u001b[36m261\u001b[0m - \u001b[33m\u001b[1mSimulation Ended!\n",
      "reason: Status.Success\u001b[0m\n"
     ]
    },
    {
     "name": "stdout",
     "output_type": "stream",
     "text": [
      "SIM RUN: 1/1\n",
      "SIM RUN SUCCESS: 1/1, 100.0%\n",
      "25\n"
     ]
    },
    {
     "name": "stderr",
     "output_type": "stream",
     "text": [
      "\u001b[32m2025-04-27 23:21:15.491\u001b[0m | \u001b[33m\u001b[1mWARNING \u001b[0m | \u001b[36msrc.simulation\u001b[0m:\u001b[36mrun_simulation\u001b[0m:\u001b[36m261\u001b[0m - \u001b[33m\u001b[1mSimulation Ended!\n",
      "reason: Status.Success\u001b[0m\n"
     ]
    },
    {
     "name": "stdout",
     "output_type": "stream",
     "text": [
      "SIM RUN: 1/1\n",
      "SIM RUN SUCCESS: 1/1, 100.0%\n",
      "26\n"
     ]
    },
    {
     "name": "stderr",
     "output_type": "stream",
     "text": [
      "\u001b[32m2025-04-27 23:21:19.224\u001b[0m | \u001b[33m\u001b[1mWARNING \u001b[0m | \u001b[36msrc.simulation\u001b[0m:\u001b[36mrun_simulation\u001b[0m:\u001b[36m261\u001b[0m - \u001b[33m\u001b[1mSimulation Ended!\n",
      "reason: Status.Success\u001b[0m\n"
     ]
    },
    {
     "name": "stdout",
     "output_type": "stream",
     "text": [
      "SIM RUN: 1/1\n",
      "SIM RUN SUCCESS: 1/1, 100.0%\n",
      "27\n"
     ]
    },
    {
     "name": "stderr",
     "output_type": "stream",
     "text": [
      "\u001b[32m2025-04-27 23:21:22.829\u001b[0m | \u001b[33m\u001b[1mWARNING \u001b[0m | \u001b[36msrc.simulation\u001b[0m:\u001b[36mrun_simulation\u001b[0m:\u001b[36m261\u001b[0m - \u001b[33m\u001b[1mSimulation Ended!\n",
      "reason: Status.Success\u001b[0m\n"
     ]
    },
    {
     "name": "stdout",
     "output_type": "stream",
     "text": [
      "SIM RUN: 1/1\n",
      "SIM RUN SUCCESS: 1/1, 100.0%\n",
      "28\n"
     ]
    },
    {
     "name": "stderr",
     "output_type": "stream",
     "text": [
      "\u001b[32m2025-04-27 23:21:26.486\u001b[0m | \u001b[33m\u001b[1mWARNING \u001b[0m | \u001b[36msrc.simulation\u001b[0m:\u001b[36mrun_simulation\u001b[0m:\u001b[36m261\u001b[0m - \u001b[33m\u001b[1mSimulation Ended!\n",
      "reason: Status.Success\u001b[0m\n"
     ]
    },
    {
     "name": "stdout",
     "output_type": "stream",
     "text": [
      "SIM RUN: 1/1\n",
      "SIM RUN SUCCESS: 1/1, 100.0%\n",
      "29\n"
     ]
    },
    {
     "name": "stderr",
     "output_type": "stream",
     "text": [
      "\u001b[32m2025-04-27 23:21:30.156\u001b[0m | \u001b[33m\u001b[1mWARNING \u001b[0m | \u001b[36msrc.simulation\u001b[0m:\u001b[36mrun_simulation\u001b[0m:\u001b[36m261\u001b[0m - \u001b[33m\u001b[1mSimulation Ended!\n",
      "reason: Status.Success\u001b[0m\n"
     ]
    },
    {
     "name": "stdout",
     "output_type": "stream",
     "text": [
      "SIM RUN: 1/1\n",
      "SIM RUN SUCCESS: 1/1, 100.0%\n",
      "30\n"
     ]
    },
    {
     "name": "stderr",
     "output_type": "stream",
     "text": [
      "\u001b[32m2025-04-27 23:21:34.019\u001b[0m | \u001b[33m\u001b[1mWARNING \u001b[0m | \u001b[36msrc.simulation\u001b[0m:\u001b[36mrun_simulation\u001b[0m:\u001b[36m261\u001b[0m - \u001b[33m\u001b[1mSimulation Ended!\n",
      "reason: Status.Success\u001b[0m\n"
     ]
    },
    {
     "name": "stdout",
     "output_type": "stream",
     "text": [
      "SIM RUN: 1/1\n",
      "SIM RUN SUCCESS: 1/1, 100.0%\n",
      "31\n"
     ]
    },
    {
     "name": "stderr",
     "output_type": "stream",
     "text": [
      "\u001b[32m2025-04-27 23:21:37.537\u001b[0m | \u001b[33m\u001b[1mWARNING \u001b[0m | \u001b[36msrc.simulation\u001b[0m:\u001b[36mrun_simulation\u001b[0m:\u001b[36m261\u001b[0m - \u001b[33m\u001b[1mSimulation Ended!\n",
      "reason: Status.Success\u001b[0m\n"
     ]
    },
    {
     "name": "stdout",
     "output_type": "stream",
     "text": [
      "SIM RUN: 1/1\n",
      "SIM RUN SUCCESS: 1/1, 100.0%\n",
      "32\n"
     ]
    },
    {
     "name": "stderr",
     "output_type": "stream",
     "text": [
      "\u001b[32m2025-04-27 23:21:41.483\u001b[0m | \u001b[33m\u001b[1mWARNING \u001b[0m | \u001b[36msrc.simulation\u001b[0m:\u001b[36mrun_simulation\u001b[0m:\u001b[36m261\u001b[0m - \u001b[33m\u001b[1mSimulation Ended!\n",
      "reason: Status.Success\u001b[0m\n"
     ]
    },
    {
     "name": "stdout",
     "output_type": "stream",
     "text": [
      "SIM RUN: 1/1\n",
      "SIM RUN SUCCESS: 1/1, 100.0%\n",
      "33\n"
     ]
    },
    {
     "name": "stderr",
     "output_type": "stream",
     "text": [
      "\u001b[32m2025-04-27 23:21:45.185\u001b[0m | \u001b[33m\u001b[1mWARNING \u001b[0m | \u001b[36msrc.simulation\u001b[0m:\u001b[36mrun_simulation\u001b[0m:\u001b[36m261\u001b[0m - \u001b[33m\u001b[1mSimulation Ended!\n",
      "reason: Status.Success\u001b[0m\n"
     ]
    },
    {
     "name": "stdout",
     "output_type": "stream",
     "text": [
      "SIM RUN: 1/1\n",
      "SIM RUN SUCCESS: 1/1, 100.0%\n",
      "34\n"
     ]
    },
    {
     "name": "stderr",
     "output_type": "stream",
     "text": [
      "\u001b[32m2025-04-27 23:21:48.819\u001b[0m | \u001b[33m\u001b[1mWARNING \u001b[0m | \u001b[36msrc.simulation\u001b[0m:\u001b[36mrun_simulation\u001b[0m:\u001b[36m261\u001b[0m - \u001b[33m\u001b[1mSimulation Ended!\n",
      "reason: Status.Success\u001b[0m\n"
     ]
    },
    {
     "name": "stdout",
     "output_type": "stream",
     "text": [
      "SIM RUN: 1/1\n",
      "SIM RUN SUCCESS: 1/1, 100.0%\n",
      "35\n"
     ]
    },
    {
     "name": "stderr",
     "output_type": "stream",
     "text": [
      "\u001b[32m2025-04-27 23:21:52.191\u001b[0m | \u001b[33m\u001b[1mWARNING \u001b[0m | \u001b[36msrc.simulation\u001b[0m:\u001b[36mrun_simulation\u001b[0m:\u001b[36m261\u001b[0m - \u001b[33m\u001b[1mSimulation Ended!\n",
      "reason: Status.Success\u001b[0m\n"
     ]
    },
    {
     "name": "stdout",
     "output_type": "stream",
     "text": [
      "SIM RUN: 1/1\n",
      "SIM RUN SUCCESS: 1/1, 100.0%\n",
      "36\n"
     ]
    },
    {
     "name": "stderr",
     "output_type": "stream",
     "text": [
      "\u001b[32m2025-04-27 23:21:56.124\u001b[0m | \u001b[33m\u001b[1mWARNING \u001b[0m | \u001b[36msrc.simulation\u001b[0m:\u001b[36mrun_simulation\u001b[0m:\u001b[36m261\u001b[0m - \u001b[33m\u001b[1mSimulation Ended!\n",
      "reason: Status.Success\u001b[0m\n"
     ]
    },
    {
     "name": "stdout",
     "output_type": "stream",
     "text": [
      "SIM RUN: 1/1\n",
      "SIM RUN SUCCESS: 1/1, 100.0%\n",
      "37\n"
     ]
    },
    {
     "name": "stderr",
     "output_type": "stream",
     "text": [
      "\u001b[32m2025-04-27 23:21:59.457\u001b[0m | \u001b[33m\u001b[1mWARNING \u001b[0m | \u001b[36msrc.simulation\u001b[0m:\u001b[36mrun_simulation\u001b[0m:\u001b[36m261\u001b[0m - \u001b[33m\u001b[1mSimulation Ended!\n",
      "reason: Status.Success\u001b[0m\n"
     ]
    },
    {
     "name": "stdout",
     "output_type": "stream",
     "text": [
      "SIM RUN: 1/1\n",
      "SIM RUN SUCCESS: 1/1, 100.0%\n",
      "38\n"
     ]
    },
    {
     "name": "stderr",
     "output_type": "stream",
     "text": [
      "\u001b[32m2025-04-27 23:22:03.020\u001b[0m | \u001b[33m\u001b[1mWARNING \u001b[0m | \u001b[36msrc.simulation\u001b[0m:\u001b[36mrun_simulation\u001b[0m:\u001b[36m261\u001b[0m - \u001b[33m\u001b[1mSimulation Ended!\n",
      "reason: Status.Success\u001b[0m\n"
     ]
    },
    {
     "name": "stdout",
     "output_type": "stream",
     "text": [
      "SIM RUN: 1/1\n",
      "SIM RUN SUCCESS: 1/1, 100.0%\n",
      "\n",
      "Running simulations for ACO\n",
      "0\n"
     ]
    },
    {
     "name": "stderr",
     "output_type": "stream",
     "text": [
      "\u001b[32m2025-04-27 23:22:12.102\u001b[0m | \u001b[33m\u001b[1mWARNING \u001b[0m | \u001b[36msrc.simulation\u001b[0m:\u001b[36mrun_simulation\u001b[0m:\u001b[36m261\u001b[0m - \u001b[33m\u001b[1mSimulation Ended!\n",
      "reason: Status.Success\u001b[0m\n"
     ]
    },
    {
     "name": "stdout",
     "output_type": "stream",
     "text": [
      "SIM RUN: 1/1\n",
      "SIM RUN SUCCESS: 1/1, 100.0%\n",
      "1\n"
     ]
    },
    {
     "name": "stderr",
     "output_type": "stream",
     "text": [
      "\u001b[32m2025-04-27 23:22:20.875\u001b[0m | \u001b[33m\u001b[1mWARNING \u001b[0m | \u001b[36msrc.simulation\u001b[0m:\u001b[36mrun_simulation\u001b[0m:\u001b[36m261\u001b[0m - \u001b[33m\u001b[1mSimulation Ended!\n",
      "reason: Status.Success\u001b[0m\n"
     ]
    },
    {
     "name": "stdout",
     "output_type": "stream",
     "text": [
      "SIM RUN: 1/1\n",
      "SIM RUN SUCCESS: 1/1, 100.0%\n",
      "2\n"
     ]
    },
    {
     "name": "stderr",
     "output_type": "stream",
     "text": [
      "\u001b[32m2025-04-27 23:22:28.880\u001b[0m | \u001b[33m\u001b[1mWARNING \u001b[0m | \u001b[36msrc.simulation\u001b[0m:\u001b[36mrun_simulation\u001b[0m:\u001b[36m261\u001b[0m - \u001b[33m\u001b[1mSimulation Ended!\n",
      "reason: Status.Success\u001b[0m\n"
     ]
    },
    {
     "name": "stdout",
     "output_type": "stream",
     "text": [
      "SIM RUN: 1/1\n",
      "SIM RUN SUCCESS: 1/1, 100.0%\n",
      "3\n"
     ]
    },
    {
     "name": "stderr",
     "output_type": "stream",
     "text": [
      "\u001b[32m2025-04-27 23:22:37.585\u001b[0m | \u001b[33m\u001b[1mWARNING \u001b[0m | \u001b[36msrc.simulation\u001b[0m:\u001b[36mrun_simulation\u001b[0m:\u001b[36m261\u001b[0m - \u001b[33m\u001b[1mSimulation Ended!\n",
      "reason: Status.Success\u001b[0m\n"
     ]
    },
    {
     "name": "stdout",
     "output_type": "stream",
     "text": [
      "SIM RUN: 1/1\n",
      "SIM RUN SUCCESS: 1/1, 100.0%\n",
      "4\n"
     ]
    },
    {
     "name": "stderr",
     "output_type": "stream",
     "text": [
      "\u001b[32m2025-04-27 23:22:46.036\u001b[0m | \u001b[33m\u001b[1mWARNING \u001b[0m | \u001b[36msrc.simulation\u001b[0m:\u001b[36mrun_simulation\u001b[0m:\u001b[36m261\u001b[0m - \u001b[33m\u001b[1mSimulation Ended!\n",
      "reason: Status.Success\u001b[0m\n"
     ]
    },
    {
     "name": "stdout",
     "output_type": "stream",
     "text": [
      "SIM RUN: 1/1\n",
      "SIM RUN SUCCESS: 1/1, 100.0%\n",
      "5\n"
     ]
    },
    {
     "name": "stderr",
     "output_type": "stream",
     "text": [
      "\u001b[32m2025-04-27 23:22:54.285\u001b[0m | \u001b[33m\u001b[1mWARNING \u001b[0m | \u001b[36msrc.simulation\u001b[0m:\u001b[36mrun_simulation\u001b[0m:\u001b[36m261\u001b[0m - \u001b[33m\u001b[1mSimulation Ended!\n",
      "reason: Status.Success\u001b[0m\n"
     ]
    },
    {
     "name": "stdout",
     "output_type": "stream",
     "text": [
      "SIM RUN: 1/1\n",
      "SIM RUN SUCCESS: 1/1, 100.0%\n",
      "6\n"
     ]
    },
    {
     "name": "stderr",
     "output_type": "stream",
     "text": [
      "\u001b[32m2025-04-27 23:23:02.726\u001b[0m | \u001b[33m\u001b[1mWARNING \u001b[0m | \u001b[36msrc.simulation\u001b[0m:\u001b[36mrun_simulation\u001b[0m:\u001b[36m261\u001b[0m - \u001b[33m\u001b[1mSimulation Ended!\n",
      "reason: Status.Success\u001b[0m\n"
     ]
    },
    {
     "name": "stdout",
     "output_type": "stream",
     "text": [
      "SIM RUN: 1/1\n",
      "SIM RUN SUCCESS: 1/1, 100.0%\n",
      "7\n"
     ]
    },
    {
     "name": "stderr",
     "output_type": "stream",
     "text": [
      "\u001b[32m2025-04-27 23:23:11.326\u001b[0m | \u001b[33m\u001b[1mWARNING \u001b[0m | \u001b[36msrc.simulation\u001b[0m:\u001b[36mrun_simulation\u001b[0m:\u001b[36m261\u001b[0m - \u001b[33m\u001b[1mSimulation Ended!\n",
      "reason: Status.Success\u001b[0m\n"
     ]
    },
    {
     "name": "stdout",
     "output_type": "stream",
     "text": [
      "SIM RUN: 1/1\n",
      "SIM RUN SUCCESS: 1/1, 100.0%\n",
      "8\n"
     ]
    },
    {
     "name": "stderr",
     "output_type": "stream",
     "text": [
      "\u001b[32m2025-04-27 23:23:20.155\u001b[0m | \u001b[33m\u001b[1mWARNING \u001b[0m | \u001b[36msrc.simulation\u001b[0m:\u001b[36mrun_simulation\u001b[0m:\u001b[36m261\u001b[0m - \u001b[33m\u001b[1mSimulation Ended!\n",
      "reason: Status.Success\u001b[0m\n"
     ]
    },
    {
     "name": "stdout",
     "output_type": "stream",
     "text": [
      "SIM RUN: 1/1\n",
      "SIM RUN SUCCESS: 1/1, 100.0%\n",
      "9\n"
     ]
    },
    {
     "name": "stderr",
     "output_type": "stream",
     "text": [
      "\u001b[32m2025-04-27 23:23:28.452\u001b[0m | \u001b[33m\u001b[1mWARNING \u001b[0m | \u001b[36msrc.simulation\u001b[0m:\u001b[36mrun_simulation\u001b[0m:\u001b[36m261\u001b[0m - \u001b[33m\u001b[1mSimulation Ended!\n",
      "reason: Status.Success\u001b[0m\n"
     ]
    },
    {
     "name": "stdout",
     "output_type": "stream",
     "text": [
      "SIM RUN: 1/1\n",
      "SIM RUN SUCCESS: 1/1, 100.0%\n",
      "10\n"
     ]
    },
    {
     "name": "stderr",
     "output_type": "stream",
     "text": [
      "\u001b[32m2025-04-27 23:23:37.126\u001b[0m | \u001b[33m\u001b[1mWARNING \u001b[0m | \u001b[36msrc.simulation\u001b[0m:\u001b[36mrun_simulation\u001b[0m:\u001b[36m261\u001b[0m - \u001b[33m\u001b[1mSimulation Ended!\n",
      "reason: Status.Success\u001b[0m\n"
     ]
    },
    {
     "name": "stdout",
     "output_type": "stream",
     "text": [
      "SIM RUN: 1/1\n",
      "SIM RUN SUCCESS: 1/1, 100.0%\n",
      "11\n"
     ]
    },
    {
     "name": "stderr",
     "output_type": "stream",
     "text": [
      "\u001b[32m2025-04-27 23:23:45.310\u001b[0m | \u001b[33m\u001b[1mWARNING \u001b[0m | \u001b[36msrc.simulation\u001b[0m:\u001b[36mrun_simulation\u001b[0m:\u001b[36m261\u001b[0m - \u001b[33m\u001b[1mSimulation Ended!\n",
      "reason: Status.Success\u001b[0m\n"
     ]
    },
    {
     "name": "stdout",
     "output_type": "stream",
     "text": [
      "SIM RUN: 1/1\n",
      "SIM RUN SUCCESS: 1/1, 100.0%\n",
      "12\n"
     ]
    },
    {
     "name": "stderr",
     "output_type": "stream",
     "text": [
      "\u001b[32m2025-04-27 23:23:53.779\u001b[0m | \u001b[33m\u001b[1mWARNING \u001b[0m | \u001b[36msrc.simulation\u001b[0m:\u001b[36mrun_simulation\u001b[0m:\u001b[36m261\u001b[0m - \u001b[33m\u001b[1mSimulation Ended!\n",
      "reason: Status.Success\u001b[0m\n"
     ]
    },
    {
     "name": "stdout",
     "output_type": "stream",
     "text": [
      "SIM RUN: 1/1\n",
      "SIM RUN SUCCESS: 1/1, 100.0%\n",
      "13\n"
     ]
    },
    {
     "name": "stderr",
     "output_type": "stream",
     "text": [
      "\u001b[32m2025-04-27 23:24:01.933\u001b[0m | \u001b[33m\u001b[1mWARNING \u001b[0m | \u001b[36msrc.simulation\u001b[0m:\u001b[36mrun_simulation\u001b[0m:\u001b[36m261\u001b[0m - \u001b[33m\u001b[1mSimulation Ended!\n",
      "reason: Status.Success\u001b[0m\n"
     ]
    },
    {
     "name": "stdout",
     "output_type": "stream",
     "text": [
      "SIM RUN: 1/1\n",
      "SIM RUN SUCCESS: 1/1, 100.0%\n",
      "14\n"
     ]
    },
    {
     "name": "stderr",
     "output_type": "stream",
     "text": [
      "\u001b[32m2025-04-27 23:24:09.831\u001b[0m | \u001b[33m\u001b[1mWARNING \u001b[0m | \u001b[36msrc.simulation\u001b[0m:\u001b[36mrun_simulation\u001b[0m:\u001b[36m261\u001b[0m - \u001b[33m\u001b[1mSimulation Ended!\n",
      "reason: Status.Success\u001b[0m\n"
     ]
    },
    {
     "name": "stdout",
     "output_type": "stream",
     "text": [
      "SIM RUN: 1/1\n",
      "SIM RUN SUCCESS: 1/1, 100.0%\n",
      "15\n"
     ]
    },
    {
     "name": "stderr",
     "output_type": "stream",
     "text": [
      "\u001b[32m2025-04-27 23:24:18.296\u001b[0m | \u001b[33m\u001b[1mWARNING \u001b[0m | \u001b[36msrc.simulation\u001b[0m:\u001b[36mrun_simulation\u001b[0m:\u001b[36m261\u001b[0m - \u001b[33m\u001b[1mSimulation Ended!\n",
      "reason: Status.Success\u001b[0m\n"
     ]
    },
    {
     "name": "stdout",
     "output_type": "stream",
     "text": [
      "SIM RUN: 1/1\n",
      "SIM RUN SUCCESS: 1/1, 100.0%\n",
      "16\n"
     ]
    },
    {
     "name": "stderr",
     "output_type": "stream",
     "text": [
      "\u001b[32m2025-04-27 23:24:26.501\u001b[0m | \u001b[33m\u001b[1mWARNING \u001b[0m | \u001b[36msrc.simulation\u001b[0m:\u001b[36mrun_simulation\u001b[0m:\u001b[36m261\u001b[0m - \u001b[33m\u001b[1mSimulation Ended!\n",
      "reason: Status.Success\u001b[0m\n"
     ]
    },
    {
     "name": "stdout",
     "output_type": "stream",
     "text": [
      "SIM RUN: 1/1\n",
      "SIM RUN SUCCESS: 1/1, 100.0%\n",
      "17\n"
     ]
    },
    {
     "name": "stderr",
     "output_type": "stream",
     "text": [
      "\u001b[32m2025-04-27 23:24:34.725\u001b[0m | \u001b[33m\u001b[1mWARNING \u001b[0m | \u001b[36msrc.simulation\u001b[0m:\u001b[36mrun_simulation\u001b[0m:\u001b[36m261\u001b[0m - \u001b[33m\u001b[1mSimulation Ended!\n",
      "reason: Status.Success\u001b[0m\n"
     ]
    },
    {
     "name": "stdout",
     "output_type": "stream",
     "text": [
      "SIM RUN: 1/1\n",
      "SIM RUN SUCCESS: 1/1, 100.0%\n",
      "18\n"
     ]
    },
    {
     "name": "stderr",
     "output_type": "stream",
     "text": [
      "\u001b[32m2025-04-27 23:24:43.303\u001b[0m | \u001b[33m\u001b[1mWARNING \u001b[0m | \u001b[36msrc.simulation\u001b[0m:\u001b[36mrun_simulation\u001b[0m:\u001b[36m261\u001b[0m - \u001b[33m\u001b[1mSimulation Ended!\n",
      "reason: Status.Success\u001b[0m\n"
     ]
    },
    {
     "name": "stdout",
     "output_type": "stream",
     "text": [
      "SIM RUN: 1/1\n",
      "SIM RUN SUCCESS: 1/1, 100.0%\n",
      "19\n"
     ]
    },
    {
     "name": "stderr",
     "output_type": "stream",
     "text": [
      "\u001b[32m2025-04-27 23:24:52.148\u001b[0m | \u001b[33m\u001b[1mWARNING \u001b[0m | \u001b[36msrc.simulation\u001b[0m:\u001b[36mrun_simulation\u001b[0m:\u001b[36m261\u001b[0m - \u001b[33m\u001b[1mSimulation Ended!\n",
      "reason: Status.Success\u001b[0m\n"
     ]
    },
    {
     "name": "stdout",
     "output_type": "stream",
     "text": [
      "SIM RUN: 1/1\n",
      "SIM RUN SUCCESS: 1/1, 100.0%\n",
      "20\n"
     ]
    },
    {
     "name": "stderr",
     "output_type": "stream",
     "text": [
      "\u001b[32m2025-04-27 23:25:01.122\u001b[0m | \u001b[33m\u001b[1mWARNING \u001b[0m | \u001b[36msrc.simulation\u001b[0m:\u001b[36mrun_simulation\u001b[0m:\u001b[36m261\u001b[0m - \u001b[33m\u001b[1mSimulation Ended!\n",
      "reason: Status.Success\u001b[0m\n"
     ]
    },
    {
     "name": "stdout",
     "output_type": "stream",
     "text": [
      "SIM RUN: 1/1\n",
      "SIM RUN SUCCESS: 1/1, 100.0%\n",
      "21\n"
     ]
    },
    {
     "name": "stderr",
     "output_type": "stream",
     "text": [
      "\u001b[32m2025-04-27 23:25:09.708\u001b[0m | \u001b[33m\u001b[1mWARNING \u001b[0m | \u001b[36msrc.simulation\u001b[0m:\u001b[36mrun_simulation\u001b[0m:\u001b[36m261\u001b[0m - \u001b[33m\u001b[1mSimulation Ended!\n",
      "reason: Status.Success\u001b[0m\n"
     ]
    },
    {
     "name": "stdout",
     "output_type": "stream",
     "text": [
      "SIM RUN: 1/1\n",
      "SIM RUN SUCCESS: 1/1, 100.0%\n",
      "22\n"
     ]
    },
    {
     "name": "stderr",
     "output_type": "stream",
     "text": [
      "\u001b[32m2025-04-27 23:25:18.318\u001b[0m | \u001b[33m\u001b[1mWARNING \u001b[0m | \u001b[36msrc.simulation\u001b[0m:\u001b[36mrun_simulation\u001b[0m:\u001b[36m261\u001b[0m - \u001b[33m\u001b[1mSimulation Ended!\n",
      "reason: Status.Success\u001b[0m\n"
     ]
    },
    {
     "name": "stdout",
     "output_type": "stream",
     "text": [
      "SIM RUN: 1/1\n",
      "SIM RUN SUCCESS: 1/1, 100.0%\n",
      "23\n"
     ]
    },
    {
     "name": "stderr",
     "output_type": "stream",
     "text": [
      "\u001b[32m2025-04-27 23:25:27.146\u001b[0m | \u001b[33m\u001b[1mWARNING \u001b[0m | \u001b[36msrc.simulation\u001b[0m:\u001b[36mrun_simulation\u001b[0m:\u001b[36m261\u001b[0m - \u001b[33m\u001b[1mSimulation Ended!\n",
      "reason: Status.Success\u001b[0m\n"
     ]
    },
    {
     "name": "stdout",
     "output_type": "stream",
     "text": [
      "SIM RUN: 1/1\n",
      "SIM RUN SUCCESS: 1/1, 100.0%\n",
      "24\n"
     ]
    },
    {
     "name": "stderr",
     "output_type": "stream",
     "text": [
      "\u001b[32m2025-04-27 23:25:36.098\u001b[0m | \u001b[33m\u001b[1mWARNING \u001b[0m | \u001b[36msrc.simulation\u001b[0m:\u001b[36mrun_simulation\u001b[0m:\u001b[36m261\u001b[0m - \u001b[33m\u001b[1mSimulation Ended!\n",
      "reason: Status.Success\u001b[0m\n"
     ]
    },
    {
     "name": "stdout",
     "output_type": "stream",
     "text": [
      "SIM RUN: 1/1\n",
      "SIM RUN SUCCESS: 1/1, 100.0%\n",
      "25\n"
     ]
    },
    {
     "name": "stderr",
     "output_type": "stream",
     "text": [
      "\u001b[32m2025-04-27 23:25:45.047\u001b[0m | \u001b[33m\u001b[1mWARNING \u001b[0m | \u001b[36msrc.simulation\u001b[0m:\u001b[36mrun_simulation\u001b[0m:\u001b[36m261\u001b[0m - \u001b[33m\u001b[1mSimulation Ended!\n",
      "reason: Status.Success\u001b[0m\n"
     ]
    },
    {
     "name": "stdout",
     "output_type": "stream",
     "text": [
      "SIM RUN: 1/1\n",
      "SIM RUN SUCCESS: 1/1, 100.0%\n",
      "26\n"
     ]
    },
    {
     "name": "stderr",
     "output_type": "stream",
     "text": [
      "\u001b[32m2025-04-27 23:25:54.311\u001b[0m | \u001b[33m\u001b[1mWARNING \u001b[0m | \u001b[36msrc.simulation\u001b[0m:\u001b[36mrun_simulation\u001b[0m:\u001b[36m261\u001b[0m - \u001b[33m\u001b[1mSimulation Ended!\n",
      "reason: Status.Success\u001b[0m\n"
     ]
    },
    {
     "name": "stdout",
     "output_type": "stream",
     "text": [
      "SIM RUN: 1/1\n",
      "SIM RUN SUCCESS: 1/1, 100.0%\n",
      "27\n"
     ]
    },
    {
     "name": "stderr",
     "output_type": "stream",
     "text": [
      "\u001b[32m2025-04-27 23:26:05.572\u001b[0m | \u001b[33m\u001b[1mWARNING \u001b[0m | \u001b[36msrc.simulation\u001b[0m:\u001b[36mrun_simulation\u001b[0m:\u001b[36m261\u001b[0m - \u001b[33m\u001b[1mSimulation Ended!\n",
      "reason: Status.Success\u001b[0m\n"
     ]
    },
    {
     "name": "stdout",
     "output_type": "stream",
     "text": [
      "SIM RUN: 1/1\n",
      "SIM RUN SUCCESS: 1/1, 100.0%\n",
      "28\n"
     ]
    },
    {
     "name": "stderr",
     "output_type": "stream",
     "text": [
      "\u001b[32m2025-04-27 23:26:14.096\u001b[0m | \u001b[33m\u001b[1mWARNING \u001b[0m | \u001b[36msrc.simulation\u001b[0m:\u001b[36mrun_simulation\u001b[0m:\u001b[36m261\u001b[0m - \u001b[33m\u001b[1mSimulation Ended!\n",
      "reason: Status.Success\u001b[0m\n"
     ]
    },
    {
     "name": "stdout",
     "output_type": "stream",
     "text": [
      "SIM RUN: 1/1\n",
      "SIM RUN SUCCESS: 1/1, 100.0%\n",
      "29\n"
     ]
    },
    {
     "name": "stderr",
     "output_type": "stream",
     "text": [
      "\u001b[32m2025-04-27 23:26:22.754\u001b[0m | \u001b[33m\u001b[1mWARNING \u001b[0m | \u001b[36msrc.simulation\u001b[0m:\u001b[36mrun_simulation\u001b[0m:\u001b[36m261\u001b[0m - \u001b[33m\u001b[1mSimulation Ended!\n",
      "reason: Status.Success\u001b[0m\n"
     ]
    },
    {
     "name": "stdout",
     "output_type": "stream",
     "text": [
      "SIM RUN: 1/1\n",
      "SIM RUN SUCCESS: 1/1, 100.0%\n",
      "30\n"
     ]
    },
    {
     "name": "stderr",
     "output_type": "stream",
     "text": [
      "\u001b[32m2025-04-27 23:26:31.254\u001b[0m | \u001b[33m\u001b[1mWARNING \u001b[0m | \u001b[36msrc.simulation\u001b[0m:\u001b[36mrun_simulation\u001b[0m:\u001b[36m261\u001b[0m - \u001b[33m\u001b[1mSimulation Ended!\n",
      "reason: Status.Success\u001b[0m\n"
     ]
    },
    {
     "name": "stdout",
     "output_type": "stream",
     "text": [
      "SIM RUN: 1/1\n",
      "SIM RUN SUCCESS: 1/1, 100.0%\n",
      "31\n"
     ]
    },
    {
     "name": "stderr",
     "output_type": "stream",
     "text": [
      "\u001b[32m2025-04-27 23:26:39.060\u001b[0m | \u001b[33m\u001b[1mWARNING \u001b[0m | \u001b[36msrc.simulation\u001b[0m:\u001b[36mrun_simulation\u001b[0m:\u001b[36m261\u001b[0m - \u001b[33m\u001b[1mSimulation Ended!\n",
      "reason: Status.Success\u001b[0m\n"
     ]
    },
    {
     "name": "stdout",
     "output_type": "stream",
     "text": [
      "SIM RUN: 1/1\n",
      "SIM RUN SUCCESS: 1/1, 100.0%\n",
      "32\n"
     ]
    },
    {
     "name": "stderr",
     "output_type": "stream",
     "text": [
      "\u001b[32m2025-04-27 23:26:47.580\u001b[0m | \u001b[33m\u001b[1mWARNING \u001b[0m | \u001b[36msrc.simulation\u001b[0m:\u001b[36mrun_simulation\u001b[0m:\u001b[36m261\u001b[0m - \u001b[33m\u001b[1mSimulation Ended!\n",
      "reason: Status.Success\u001b[0m\n"
     ]
    },
    {
     "name": "stdout",
     "output_type": "stream",
     "text": [
      "SIM RUN: 1/1\n",
      "SIM RUN SUCCESS: 1/1, 100.0%\n",
      "33\n"
     ]
    },
    {
     "name": "stderr",
     "output_type": "stream",
     "text": [
      "\u001b[32m2025-04-27 23:26:55.863\u001b[0m | \u001b[33m\u001b[1mWARNING \u001b[0m | \u001b[36msrc.simulation\u001b[0m:\u001b[36mrun_simulation\u001b[0m:\u001b[36m261\u001b[0m - \u001b[33m\u001b[1mSimulation Ended!\n",
      "reason: Status.Success\u001b[0m\n"
     ]
    },
    {
     "name": "stdout",
     "output_type": "stream",
     "text": [
      "SIM RUN: 1/1\n",
      "SIM RUN SUCCESS: 1/1, 100.0%\n",
      "34\n"
     ]
    },
    {
     "name": "stderr",
     "output_type": "stream",
     "text": [
      "\u001b[32m2025-04-27 23:27:04.175\u001b[0m | \u001b[33m\u001b[1mWARNING \u001b[0m | \u001b[36msrc.simulation\u001b[0m:\u001b[36mrun_simulation\u001b[0m:\u001b[36m261\u001b[0m - \u001b[33m\u001b[1mSimulation Ended!\n",
      "reason: Status.Success\u001b[0m\n"
     ]
    },
    {
     "name": "stdout",
     "output_type": "stream",
     "text": [
      "SIM RUN: 1/1\n",
      "SIM RUN SUCCESS: 1/1, 100.0%\n",
      "35\n"
     ]
    },
    {
     "name": "stderr",
     "output_type": "stream",
     "text": [
      "\u001b[32m2025-04-27 23:27:12.268\u001b[0m | \u001b[33m\u001b[1mWARNING \u001b[0m | \u001b[36msrc.simulation\u001b[0m:\u001b[36mrun_simulation\u001b[0m:\u001b[36m261\u001b[0m - \u001b[33m\u001b[1mSimulation Ended!\n",
      "reason: Status.Success\u001b[0m\n"
     ]
    },
    {
     "name": "stdout",
     "output_type": "stream",
     "text": [
      "SIM RUN: 1/1\n",
      "SIM RUN SUCCESS: 1/1, 100.0%\n",
      "36\n"
     ]
    },
    {
     "name": "stderr",
     "output_type": "stream",
     "text": [
      "\u001b[32m2025-04-27 23:27:20.259\u001b[0m | \u001b[33m\u001b[1mWARNING \u001b[0m | \u001b[36msrc.simulation\u001b[0m:\u001b[36mrun_simulation\u001b[0m:\u001b[36m261\u001b[0m - \u001b[33m\u001b[1mSimulation Ended!\n",
      "reason: Status.Success\u001b[0m\n"
     ]
    },
    {
     "name": "stdout",
     "output_type": "stream",
     "text": [
      "SIM RUN: 1/1\n",
      "SIM RUN SUCCESS: 1/1, 100.0%\n",
      "37\n"
     ]
    },
    {
     "name": "stderr",
     "output_type": "stream",
     "text": [
      "\u001b[32m2025-04-27 23:27:28.186\u001b[0m | \u001b[33m\u001b[1mWARNING \u001b[0m | \u001b[36msrc.simulation\u001b[0m:\u001b[36mrun_simulation\u001b[0m:\u001b[36m261\u001b[0m - \u001b[33m\u001b[1mSimulation Ended!\n",
      "reason: Status.Success\u001b[0m\n"
     ]
    },
    {
     "name": "stdout",
     "output_type": "stream",
     "text": [
      "SIM RUN: 1/1\n",
      "SIM RUN SUCCESS: 1/1, 100.0%\n",
      "38\n"
     ]
    },
    {
     "name": "stderr",
     "output_type": "stream",
     "text": [
      "\u001b[32m2025-04-27 23:27:36.756\u001b[0m | \u001b[33m\u001b[1mWARNING \u001b[0m | \u001b[36msrc.simulation\u001b[0m:\u001b[36mrun_simulation\u001b[0m:\u001b[36m261\u001b[0m - \u001b[33m\u001b[1mSimulation Ended!\n",
      "reason: Status.Success\u001b[0m\n"
     ]
    },
    {
     "name": "stdout",
     "output_type": "stream",
     "text": [
      "SIM RUN: 1/1\n",
      "SIM RUN SUCCESS: 1/1, 100.0%\n",
      "\n",
      "Running simulations for GENETIC\n",
      "0\n"
     ]
    },
    {
     "name": "stderr",
     "output_type": "stream",
     "text": [
      "\u001b[32m2025-04-27 23:27:49.052\u001b[0m | \u001b[33m\u001b[1mWARNING \u001b[0m | \u001b[36msrc.simulation\u001b[0m:\u001b[36mrun_simulation\u001b[0m:\u001b[36m261\u001b[0m - \u001b[33m\u001b[1mSimulation Ended!\n",
      "reason: Status.Success\u001b[0m\n"
     ]
    },
    {
     "name": "stdout",
     "output_type": "stream",
     "text": [
      "SIM RUN: 1/1\n",
      "SIM RUN SUCCESS: 1/1, 100.0%\n",
      "1\n"
     ]
    },
    {
     "name": "stderr",
     "output_type": "stream",
     "text": [
      "\u001b[32m2025-04-27 23:28:01.067\u001b[0m | \u001b[33m\u001b[1mWARNING \u001b[0m | \u001b[36msrc.simulation\u001b[0m:\u001b[36mrun_simulation\u001b[0m:\u001b[36m261\u001b[0m - \u001b[33m\u001b[1mSimulation Ended!\n",
      "reason: Status.Success\u001b[0m\n"
     ]
    },
    {
     "name": "stdout",
     "output_type": "stream",
     "text": [
      "SIM RUN: 1/1\n",
      "SIM RUN SUCCESS: 1/1, 100.0%\n",
      "2\n"
     ]
    },
    {
     "name": "stderr",
     "output_type": "stream",
     "text": [
      "\u001b[32m2025-04-27 23:28:12.523\u001b[0m | \u001b[33m\u001b[1mWARNING \u001b[0m | \u001b[36msrc.simulation\u001b[0m:\u001b[36mrun_simulation\u001b[0m:\u001b[36m261\u001b[0m - \u001b[33m\u001b[1mSimulation Ended!\n",
      "reason: Status.Success\u001b[0m\n"
     ]
    },
    {
     "name": "stdout",
     "output_type": "stream",
     "text": [
      "SIM RUN: 1/1\n",
      "SIM RUN SUCCESS: 1/1, 100.0%\n",
      "3\n"
     ]
    },
    {
     "name": "stderr",
     "output_type": "stream",
     "text": [
      "\u001b[32m2025-04-27 23:28:24.618\u001b[0m | \u001b[33m\u001b[1mWARNING \u001b[0m | \u001b[36msrc.simulation\u001b[0m:\u001b[36mrun_simulation\u001b[0m:\u001b[36m261\u001b[0m - \u001b[33m\u001b[1mSimulation Ended!\n",
      "reason: Status.Success\u001b[0m\n"
     ]
    },
    {
     "name": "stdout",
     "output_type": "stream",
     "text": [
      "SIM RUN: 1/1\n",
      "SIM RUN SUCCESS: 1/1, 100.0%\n",
      "4\n"
     ]
    },
    {
     "name": "stderr",
     "output_type": "stream",
     "text": [
      "\u001b[32m2025-04-27 23:28:36.144\u001b[0m | \u001b[33m\u001b[1mWARNING \u001b[0m | \u001b[36msrc.simulation\u001b[0m:\u001b[36mrun_simulation\u001b[0m:\u001b[36m261\u001b[0m - \u001b[33m\u001b[1mSimulation Ended!\n",
      "reason: Status.Success\u001b[0m\n"
     ]
    },
    {
     "name": "stdout",
     "output_type": "stream",
     "text": [
      "SIM RUN: 1/1\n",
      "SIM RUN SUCCESS: 1/1, 100.0%\n",
      "5\n"
     ]
    },
    {
     "name": "stderr",
     "output_type": "stream",
     "text": [
      "\u001b[32m2025-04-27 23:28:47.446\u001b[0m | \u001b[33m\u001b[1mWARNING \u001b[0m | \u001b[36msrc.simulation\u001b[0m:\u001b[36mrun_simulation\u001b[0m:\u001b[36m261\u001b[0m - \u001b[33m\u001b[1mSimulation Ended!\n",
      "reason: Status.Success\u001b[0m\n"
     ]
    },
    {
     "name": "stdout",
     "output_type": "stream",
     "text": [
      "SIM RUN: 1/1\n",
      "SIM RUN SUCCESS: 1/1, 100.0%\n",
      "6\n"
     ]
    },
    {
     "name": "stderr",
     "output_type": "stream",
     "text": [
      "\u001b[32m2025-04-27 23:28:58.508\u001b[0m | \u001b[33m\u001b[1mWARNING \u001b[0m | \u001b[36msrc.simulation\u001b[0m:\u001b[36mrun_simulation\u001b[0m:\u001b[36m261\u001b[0m - \u001b[33m\u001b[1mSimulation Ended!\n",
      "reason: Status.Success\u001b[0m\n"
     ]
    },
    {
     "name": "stdout",
     "output_type": "stream",
     "text": [
      "SIM RUN: 1/1\n",
      "SIM RUN SUCCESS: 1/1, 100.0%\n",
      "7\n"
     ]
    },
    {
     "name": "stderr",
     "output_type": "stream",
     "text": [
      "\u001b[32m2025-04-27 23:29:09.724\u001b[0m | \u001b[33m\u001b[1mWARNING \u001b[0m | \u001b[36msrc.simulation\u001b[0m:\u001b[36mrun_simulation\u001b[0m:\u001b[36m261\u001b[0m - \u001b[33m\u001b[1mSimulation Ended!\n",
      "reason: Status.Success\u001b[0m\n"
     ]
    },
    {
     "name": "stdout",
     "output_type": "stream",
     "text": [
      "SIM RUN: 1/1\n",
      "SIM RUN SUCCESS: 1/1, 100.0%\n",
      "8\n"
     ]
    },
    {
     "name": "stderr",
     "output_type": "stream",
     "text": [
      "\u001b[32m2025-04-27 23:29:20.830\u001b[0m | \u001b[33m\u001b[1mWARNING \u001b[0m | \u001b[36msrc.simulation\u001b[0m:\u001b[36mrun_simulation\u001b[0m:\u001b[36m261\u001b[0m - \u001b[33m\u001b[1mSimulation Ended!\n",
      "reason: Status.Success\u001b[0m\n"
     ]
    },
    {
     "name": "stdout",
     "output_type": "stream",
     "text": [
      "SIM RUN: 1/1\n",
      "SIM RUN SUCCESS: 1/1, 100.0%\n",
      "9\n"
     ]
    },
    {
     "name": "stderr",
     "output_type": "stream",
     "text": [
      "\u001b[32m2025-04-27 23:29:31.792\u001b[0m | \u001b[33m\u001b[1mWARNING \u001b[0m | \u001b[36msrc.simulation\u001b[0m:\u001b[36mrun_simulation\u001b[0m:\u001b[36m261\u001b[0m - \u001b[33m\u001b[1mSimulation Ended!\n",
      "reason: Status.Success\u001b[0m\n"
     ]
    },
    {
     "name": "stdout",
     "output_type": "stream",
     "text": [
      "SIM RUN: 1/1\n",
      "SIM RUN SUCCESS: 1/1, 100.0%\n",
      "10\n"
     ]
    },
    {
     "name": "stderr",
     "output_type": "stream",
     "text": [
      "\u001b[32m2025-04-27 23:29:42.526\u001b[0m | \u001b[33m\u001b[1mWARNING \u001b[0m | \u001b[36msrc.simulation\u001b[0m:\u001b[36mrun_simulation\u001b[0m:\u001b[36m261\u001b[0m - \u001b[33m\u001b[1mSimulation Ended!\n",
      "reason: Status.Success\u001b[0m\n"
     ]
    },
    {
     "name": "stdout",
     "output_type": "stream",
     "text": [
      "SIM RUN: 1/1\n",
      "SIM RUN SUCCESS: 1/1, 100.0%\n",
      "11\n"
     ]
    },
    {
     "name": "stderr",
     "output_type": "stream",
     "text": [
      "\u001b[32m2025-04-27 23:29:53.049\u001b[0m | \u001b[33m\u001b[1mWARNING \u001b[0m | \u001b[36msrc.simulation\u001b[0m:\u001b[36mrun_simulation\u001b[0m:\u001b[36m261\u001b[0m - \u001b[33m\u001b[1mSimulation Ended!\n",
      "reason: Status.Success\u001b[0m\n"
     ]
    },
    {
     "name": "stdout",
     "output_type": "stream",
     "text": [
      "SIM RUN: 1/1\n",
      "SIM RUN SUCCESS: 1/1, 100.0%\n",
      "12\n"
     ]
    },
    {
     "name": "stderr",
     "output_type": "stream",
     "text": [
      "\u001b[32m2025-04-27 23:30:04.307\u001b[0m | \u001b[33m\u001b[1mWARNING \u001b[0m | \u001b[36msrc.simulation\u001b[0m:\u001b[36mrun_simulation\u001b[0m:\u001b[36m261\u001b[0m - \u001b[33m\u001b[1mSimulation Ended!\n",
      "reason: Status.Success\u001b[0m\n"
     ]
    },
    {
     "name": "stdout",
     "output_type": "stream",
     "text": [
      "SIM RUN: 1/1\n",
      "SIM RUN SUCCESS: 1/1, 100.0%\n",
      "13\n"
     ]
    },
    {
     "name": "stderr",
     "output_type": "stream",
     "text": [
      "\u001b[32m2025-04-27 23:30:14.993\u001b[0m | \u001b[33m\u001b[1mWARNING \u001b[0m | \u001b[36msrc.simulation\u001b[0m:\u001b[36mrun_simulation\u001b[0m:\u001b[36m261\u001b[0m - \u001b[33m\u001b[1mSimulation Ended!\n",
      "reason: Status.Success\u001b[0m\n"
     ]
    },
    {
     "name": "stdout",
     "output_type": "stream",
     "text": [
      "SIM RUN: 1/1\n",
      "SIM RUN SUCCESS: 1/1, 100.0%\n",
      "14\n"
     ]
    },
    {
     "name": "stderr",
     "output_type": "stream",
     "text": [
      "\u001b[32m2025-04-27 23:30:25.498\u001b[0m | \u001b[33m\u001b[1mWARNING \u001b[0m | \u001b[36msrc.simulation\u001b[0m:\u001b[36mrun_simulation\u001b[0m:\u001b[36m261\u001b[0m - \u001b[33m\u001b[1mSimulation Ended!\n",
      "reason: Status.Success\u001b[0m\n"
     ]
    },
    {
     "name": "stdout",
     "output_type": "stream",
     "text": [
      "SIM RUN: 1/1\n",
      "SIM RUN SUCCESS: 1/1, 100.0%\n",
      "15\n"
     ]
    },
    {
     "name": "stderr",
     "output_type": "stream",
     "text": [
      "\u001b[32m2025-04-27 23:30:36.501\u001b[0m | \u001b[33m\u001b[1mWARNING \u001b[0m | \u001b[36msrc.simulation\u001b[0m:\u001b[36mrun_simulation\u001b[0m:\u001b[36m261\u001b[0m - \u001b[33m\u001b[1mSimulation Ended!\n",
      "reason: Status.Success\u001b[0m\n"
     ]
    },
    {
     "name": "stdout",
     "output_type": "stream",
     "text": [
      "SIM RUN: 1/1\n",
      "SIM RUN SUCCESS: 1/1, 100.0%\n",
      "16\n"
     ]
    },
    {
     "name": "stderr",
     "output_type": "stream",
     "text": [
      "\u001b[32m2025-04-27 23:30:47.873\u001b[0m | \u001b[33m\u001b[1mWARNING \u001b[0m | \u001b[36msrc.simulation\u001b[0m:\u001b[36mrun_simulation\u001b[0m:\u001b[36m261\u001b[0m - \u001b[33m\u001b[1mSimulation Ended!\n",
      "reason: Status.Success\u001b[0m\n"
     ]
    },
    {
     "name": "stdout",
     "output_type": "stream",
     "text": [
      "SIM RUN: 1/1\n",
      "SIM RUN SUCCESS: 1/1, 100.0%\n",
      "17\n"
     ]
    },
    {
     "name": "stderr",
     "output_type": "stream",
     "text": [
      "\u001b[32m2025-04-27 23:30:59.788\u001b[0m | \u001b[33m\u001b[1mWARNING \u001b[0m | \u001b[36msrc.simulation\u001b[0m:\u001b[36mrun_simulation\u001b[0m:\u001b[36m261\u001b[0m - \u001b[33m\u001b[1mSimulation Ended!\n",
      "reason: Status.Success\u001b[0m\n"
     ]
    },
    {
     "name": "stdout",
     "output_type": "stream",
     "text": [
      "SIM RUN: 1/1\n",
      "SIM RUN SUCCESS: 1/1, 100.0%\n",
      "18\n"
     ]
    },
    {
     "name": "stderr",
     "output_type": "stream",
     "text": [
      "\u001b[32m2025-04-27 23:31:11.032\u001b[0m | \u001b[33m\u001b[1mWARNING \u001b[0m | \u001b[36msrc.simulation\u001b[0m:\u001b[36mrun_simulation\u001b[0m:\u001b[36m261\u001b[0m - \u001b[33m\u001b[1mSimulation Ended!\n",
      "reason: Status.Success\u001b[0m\n"
     ]
    },
    {
     "name": "stdout",
     "output_type": "stream",
     "text": [
      "SIM RUN: 1/1\n",
      "SIM RUN SUCCESS: 1/1, 100.0%\n",
      "19\n"
     ]
    },
    {
     "name": "stderr",
     "output_type": "stream",
     "text": [
      "\u001b[32m2025-04-27 23:31:22.530\u001b[0m | \u001b[33m\u001b[1mWARNING \u001b[0m | \u001b[36msrc.simulation\u001b[0m:\u001b[36mrun_simulation\u001b[0m:\u001b[36m261\u001b[0m - \u001b[33m\u001b[1mSimulation Ended!\n",
      "reason: Status.Success\u001b[0m\n"
     ]
    },
    {
     "name": "stdout",
     "output_type": "stream",
     "text": [
      "SIM RUN: 1/1\n",
      "SIM RUN SUCCESS: 1/1, 100.0%\n",
      "20\n"
     ]
    },
    {
     "name": "stderr",
     "output_type": "stream",
     "text": [
      "\u001b[32m2025-04-27 23:31:33.583\u001b[0m | \u001b[33m\u001b[1mWARNING \u001b[0m | \u001b[36msrc.simulation\u001b[0m:\u001b[36mrun_simulation\u001b[0m:\u001b[36m261\u001b[0m - \u001b[33m\u001b[1mSimulation Ended!\n",
      "reason: Status.Success\u001b[0m\n"
     ]
    },
    {
     "name": "stdout",
     "output_type": "stream",
     "text": [
      "SIM RUN: 1/1\n",
      "SIM RUN SUCCESS: 1/1, 100.0%\n",
      "21\n"
     ]
    },
    {
     "name": "stderr",
     "output_type": "stream",
     "text": [
      "\u001b[32m2025-04-27 23:31:44.076\u001b[0m | \u001b[33m\u001b[1mWARNING \u001b[0m | \u001b[36msrc.simulation\u001b[0m:\u001b[36mrun_simulation\u001b[0m:\u001b[36m261\u001b[0m - \u001b[33m\u001b[1mSimulation Ended!\n",
      "reason: Status.Success\u001b[0m\n"
     ]
    },
    {
     "name": "stdout",
     "output_type": "stream",
     "text": [
      "SIM RUN: 1/1\n",
      "SIM RUN SUCCESS: 1/1, 100.0%\n",
      "22\n"
     ]
    },
    {
     "name": "stderr",
     "output_type": "stream",
     "text": [
      "\u001b[32m2025-04-27 23:31:56.062\u001b[0m | \u001b[33m\u001b[1mWARNING \u001b[0m | \u001b[36msrc.simulation\u001b[0m:\u001b[36mrun_simulation\u001b[0m:\u001b[36m261\u001b[0m - \u001b[33m\u001b[1mSimulation Ended!\n",
      "reason: Status.Success\u001b[0m\n"
     ]
    },
    {
     "name": "stdout",
     "output_type": "stream",
     "text": [
      "SIM RUN: 1/1\n",
      "SIM RUN SUCCESS: 1/1, 100.0%\n",
      "23\n"
     ]
    },
    {
     "name": "stderr",
     "output_type": "stream",
     "text": [
      "\u001b[32m2025-04-27 23:32:07.571\u001b[0m | \u001b[33m\u001b[1mWARNING \u001b[0m | \u001b[36msrc.simulation\u001b[0m:\u001b[36mrun_simulation\u001b[0m:\u001b[36m261\u001b[0m - \u001b[33m\u001b[1mSimulation Ended!\n",
      "reason: Status.Success\u001b[0m\n"
     ]
    },
    {
     "name": "stdout",
     "output_type": "stream",
     "text": [
      "SIM RUN: 1/1\n",
      "SIM RUN SUCCESS: 1/1, 100.0%\n",
      "24\n"
     ]
    },
    {
     "name": "stderr",
     "output_type": "stream",
     "text": [
      "\u001b[32m2025-04-27 23:32:18.629\u001b[0m | \u001b[33m\u001b[1mWARNING \u001b[0m | \u001b[36msrc.simulation\u001b[0m:\u001b[36mrun_simulation\u001b[0m:\u001b[36m261\u001b[0m - \u001b[33m\u001b[1mSimulation Ended!\n",
      "reason: Status.Success\u001b[0m\n"
     ]
    },
    {
     "name": "stdout",
     "output_type": "stream",
     "text": [
      "SIM RUN: 1/1\n",
      "SIM RUN SUCCESS: 1/1, 100.0%\n",
      "25\n"
     ]
    },
    {
     "name": "stderr",
     "output_type": "stream",
     "text": [
      "\u001b[32m2025-04-27 23:32:30.765\u001b[0m | \u001b[33m\u001b[1mWARNING \u001b[0m | \u001b[36msrc.simulation\u001b[0m:\u001b[36mrun_simulation\u001b[0m:\u001b[36m261\u001b[0m - \u001b[33m\u001b[1mSimulation Ended!\n",
      "reason: Status.Success\u001b[0m\n"
     ]
    },
    {
     "name": "stdout",
     "output_type": "stream",
     "text": [
      "SIM RUN: 1/1\n",
      "SIM RUN SUCCESS: 1/1, 100.0%\n",
      "26\n"
     ]
    },
    {
     "name": "stderr",
     "output_type": "stream",
     "text": [
      "\u001b[32m2025-04-27 23:32:44.436\u001b[0m | \u001b[33m\u001b[1mWARNING \u001b[0m | \u001b[36msrc.simulation\u001b[0m:\u001b[36mrun_simulation\u001b[0m:\u001b[36m261\u001b[0m - \u001b[33m\u001b[1mSimulation Ended!\n",
      "reason: Status.Success\u001b[0m\n"
     ]
    },
    {
     "name": "stdout",
     "output_type": "stream",
     "text": [
      "SIM RUN: 1/1\n",
      "SIM RUN SUCCESS: 1/1, 100.0%\n",
      "27\n"
     ]
    },
    {
     "name": "stderr",
     "output_type": "stream",
     "text": [
      "\u001b[32m2025-04-27 23:32:56.476\u001b[0m | \u001b[33m\u001b[1mWARNING \u001b[0m | \u001b[36msrc.simulation\u001b[0m:\u001b[36mrun_simulation\u001b[0m:\u001b[36m261\u001b[0m - \u001b[33m\u001b[1mSimulation Ended!\n",
      "reason: Status.Success\u001b[0m\n"
     ]
    },
    {
     "name": "stdout",
     "output_type": "stream",
     "text": [
      "SIM RUN: 1/1\n",
      "SIM RUN SUCCESS: 1/1, 100.0%\n",
      "28\n"
     ]
    },
    {
     "name": "stderr",
     "output_type": "stream",
     "text": [
      "\u001b[32m2025-04-27 23:33:09.743\u001b[0m | \u001b[33m\u001b[1mWARNING \u001b[0m | \u001b[36msrc.simulation\u001b[0m:\u001b[36mrun_simulation\u001b[0m:\u001b[36m261\u001b[0m - \u001b[33m\u001b[1mSimulation Ended!\n",
      "reason: Status.Success\u001b[0m\n"
     ]
    },
    {
     "name": "stdout",
     "output_type": "stream",
     "text": [
      "SIM RUN: 1/1\n",
      "SIM RUN SUCCESS: 1/1, 100.0%\n",
      "29\n"
     ]
    },
    {
     "name": "stderr",
     "output_type": "stream",
     "text": [
      "\u001b[32m2025-04-27 23:33:21.785\u001b[0m | \u001b[33m\u001b[1mWARNING \u001b[0m | \u001b[36msrc.simulation\u001b[0m:\u001b[36mrun_simulation\u001b[0m:\u001b[36m261\u001b[0m - \u001b[33m\u001b[1mSimulation Ended!\n",
      "reason: Status.Success\u001b[0m\n"
     ]
    },
    {
     "name": "stdout",
     "output_type": "stream",
     "text": [
      "SIM RUN: 1/1\n",
      "SIM RUN SUCCESS: 1/1, 100.0%\n",
      "30\n"
     ]
    },
    {
     "name": "stderr",
     "output_type": "stream",
     "text": [
      "\u001b[32m2025-04-27 23:33:33.099\u001b[0m | \u001b[33m\u001b[1mWARNING \u001b[0m | \u001b[36msrc.simulation\u001b[0m:\u001b[36mrun_simulation\u001b[0m:\u001b[36m261\u001b[0m - \u001b[33m\u001b[1mSimulation Ended!\n",
      "reason: Status.Success\u001b[0m\n"
     ]
    },
    {
     "name": "stdout",
     "output_type": "stream",
     "text": [
      "SIM RUN: 1/1\n",
      "SIM RUN SUCCESS: 1/1, 100.0%\n",
      "31\n"
     ]
    },
    {
     "name": "stderr",
     "output_type": "stream",
     "text": [
      "\u001b[32m2025-04-27 23:33:45.167\u001b[0m | \u001b[33m\u001b[1mWARNING \u001b[0m | \u001b[36msrc.simulation\u001b[0m:\u001b[36mrun_simulation\u001b[0m:\u001b[36m261\u001b[0m - \u001b[33m\u001b[1mSimulation Ended!\n",
      "reason: Status.Success\u001b[0m\n"
     ]
    },
    {
     "name": "stdout",
     "output_type": "stream",
     "text": [
      "SIM RUN: 1/1\n",
      "SIM RUN SUCCESS: 1/1, 100.0%\n",
      "32\n"
     ]
    },
    {
     "name": "stderr",
     "output_type": "stream",
     "text": [
      "\u001b[32m2025-04-27 23:33:57.106\u001b[0m | \u001b[33m\u001b[1mWARNING \u001b[0m | \u001b[36msrc.simulation\u001b[0m:\u001b[36mrun_simulation\u001b[0m:\u001b[36m261\u001b[0m - \u001b[33m\u001b[1mSimulation Ended!\n",
      "reason: Status.Success\u001b[0m\n"
     ]
    },
    {
     "name": "stdout",
     "output_type": "stream",
     "text": [
      "SIM RUN: 1/1\n",
      "SIM RUN SUCCESS: 1/1, 100.0%\n",
      "33\n"
     ]
    },
    {
     "name": "stderr",
     "output_type": "stream",
     "text": [
      "\u001b[32m2025-04-27 23:34:08.569\u001b[0m | \u001b[33m\u001b[1mWARNING \u001b[0m | \u001b[36msrc.simulation\u001b[0m:\u001b[36mrun_simulation\u001b[0m:\u001b[36m261\u001b[0m - \u001b[33m\u001b[1mSimulation Ended!\n",
      "reason: Status.Success\u001b[0m\n"
     ]
    },
    {
     "name": "stdout",
     "output_type": "stream",
     "text": [
      "SIM RUN: 1/1\n",
      "SIM RUN SUCCESS: 1/1, 100.0%\n",
      "34\n"
     ]
    },
    {
     "name": "stderr",
     "output_type": "stream",
     "text": [
      "\u001b[32m2025-04-27 23:34:20.808\u001b[0m | \u001b[33m\u001b[1mWARNING \u001b[0m | \u001b[36msrc.simulation\u001b[0m:\u001b[36mrun_simulation\u001b[0m:\u001b[36m261\u001b[0m - \u001b[33m\u001b[1mSimulation Ended!\n",
      "reason: Status.Success\u001b[0m\n"
     ]
    },
    {
     "name": "stdout",
     "output_type": "stream",
     "text": [
      "SIM RUN: 1/1\n",
      "SIM RUN SUCCESS: 1/1, 100.0%\n",
      "35\n"
     ]
    },
    {
     "name": "stderr",
     "output_type": "stream",
     "text": [
      "\u001b[32m2025-04-27 23:34:32.520\u001b[0m | \u001b[33m\u001b[1mWARNING \u001b[0m | \u001b[36msrc.simulation\u001b[0m:\u001b[36mrun_simulation\u001b[0m:\u001b[36m261\u001b[0m - \u001b[33m\u001b[1mSimulation Ended!\n",
      "reason: Status.Success\u001b[0m\n"
     ]
    },
    {
     "name": "stdout",
     "output_type": "stream",
     "text": [
      "SIM RUN: 1/1\n",
      "SIM RUN SUCCESS: 1/1, 100.0%\n",
      "36\n"
     ]
    },
    {
     "name": "stderr",
     "output_type": "stream",
     "text": [
      "\u001b[32m2025-04-27 23:34:45.761\u001b[0m | \u001b[33m\u001b[1mWARNING \u001b[0m | \u001b[36msrc.simulation\u001b[0m:\u001b[36mrun_simulation\u001b[0m:\u001b[36m261\u001b[0m - \u001b[33m\u001b[1mSimulation Ended!\n",
      "reason: Status.Success\u001b[0m\n"
     ]
    },
    {
     "name": "stdout",
     "output_type": "stream",
     "text": [
      "SIM RUN: 1/1\n",
      "SIM RUN SUCCESS: 1/1, 100.0%\n",
      "37\n"
     ]
    },
    {
     "name": "stderr",
     "output_type": "stream",
     "text": [
      "\u001b[32m2025-04-27 23:34:57.995\u001b[0m | \u001b[33m\u001b[1mWARNING \u001b[0m | \u001b[36msrc.simulation\u001b[0m:\u001b[36mrun_simulation\u001b[0m:\u001b[36m261\u001b[0m - \u001b[33m\u001b[1mSimulation Ended!\n",
      "reason: Status.Success\u001b[0m\n"
     ]
    },
    {
     "name": "stdout",
     "output_type": "stream",
     "text": [
      "SIM RUN: 1/1\n",
      "SIM RUN SUCCESS: 1/1, 100.0%\n",
      "38\n"
     ]
    },
    {
     "name": "stderr",
     "output_type": "stream",
     "text": [
      "\u001b[32m2025-04-27 23:35:12.279\u001b[0m | \u001b[33m\u001b[1mWARNING \u001b[0m | \u001b[36msrc.simulation\u001b[0m:\u001b[36mrun_simulation\u001b[0m:\u001b[36m261\u001b[0m - \u001b[33m\u001b[1mSimulation Ended!\n",
      "reason: Status.Success\u001b[0m\n"
     ]
    },
    {
     "name": "stdout",
     "output_type": "stream",
     "text": [
      "SIM RUN: 1/1\n",
      "SIM RUN SUCCESS: 1/1, 100.0%\n",
      "\n",
      "=== Average results per algorithm ===\n",
      "\n",
      "GREEDY:\n",
      "[3, 3, 3, 3, 3, 3, 3, 3, 3, 3, 3, 3, 3, 4, 3, 3, 3, 3, 3, 3, 3, 4, 3, 3, 3, 3, 3, 3, 3, 3, 3, 3, 3, 3, 3, 3, 3, 3, 3]\n",
      "  min_tugs: 3.05\n",
      "[29.54713828596649, 30.27679205110007, 28.235164454521122, 30.415582367321186, 29.328459761384856, 29.171783971028187, 29.139651665395373, 28.52508071501693, 29.717241488069895, 29.536204448651205, 29.144926161338265, 28.943314115087116, 28.962216305312538, 21.350935354013735, 28.716510607284885, 30.07148178086317, 29.504291303799068, 28.824697428139185, 29.356941675369473, 29.39518478277985, 29.32993020434529, 21.186720816018134, 28.989349112426034, 29.10907392453965, 29.332633687926347, 30.65108724789883, 29.748731044484376, 29.08202908202908, 29.019477854594815, 30.192756640797526, 30.020380112801554, 29.446234521101843, 29.65513965418963, 29.41102223063694, 29.047844623401232, 28.722850518146974, 29.481488477521722, 28.70937613778474, 29.269757006983284]\n",
      "  tug_utilization: 28.94\n",
      "[0, 0, 0, 0, 0, 2.65625, 0, 1.84375, 0, 0, 0.34285714285714286, 0, 0, 0, 0.03125, 0, 0, 0, 0, 0, 0, 0, 0.03125, 0, 0, 0, 0, 0, 0, 0, 0, 0, 0, 0, 0, 0, 0, 0, 0]\n",
      "  aircraft_idle_time: 0.13\n",
      "[576.721658986175, 572.1145833333334, 557.4440227703985, 575.2291666666666, 568.4949308755761, 558.3598214285714, 562.9520737327189, 556.1400921658986, 567.8696428571428, 557.8715277777778, 566.0746543778802, 559.6027649769585, 561.089400921659, 560.746679316888, 556.6036866359448, 572.6348214285714, 563.8669642857143, 551.2017857142857, 559.5071428571429, 573.2976958525346, 560.84375, 551.0396313364056, 564.7373271889401, 564.6552995391705, 566.9834101382489, 586.7669642857143, 569.1571428571428, 562.8829493087558, 564.5963133640553, 571.2430555555555, 572.56875, 562.0732142857142, 575.3797235023042, 561.85, 565.4082949308756, 559.268202764977, 575.4387096774193, 556.7004608294931, 569.5133640552996]\n",
      "  taxi_time: 565.10\n",
      "\n",
      "ACO:\n",
      "[3, 3, 3, 3, 3, 3, 3, 3, 3, 3, 3, 3, 3, 4, 3, 3, 3, 3, 3, 3, 3, 4, 3, 3, 3, 3, 3, 3, 3, 3, 3, 3, 3, 3, 3, 3, 3, 3, 3]\n",
      "  min_tugs: 3.05\n",
      "[29.523494270266866, 29.877769891964356, 28.167461779478213, 30.420313855374182, 28.852944885862026, 29.17335852621634, 28.887401599898016, 28.529805496495786, 29.815016322089228, 29.637166745543457, 29.325174714606455, 28.937990021382753, 28.963801191834666, 21.349620493358636, 29.052926545133968, 30.385304233433185, 30.11327779881358, 28.824697428139185, 29.720877242950728, 29.39518478277985, 28.85683101599203, 21.520098713872144, 28.514398422090732, 28.985164514654183, 29.613597805578017, 30.6447797909078, 29.606860241495635, 28.87430030287173, 29.04631120371247, 30.099690832229165, 29.977724062751786, 29.30881981298964, 30.596637593224624, 29.239046401918557, 28.98057564157096, 28.831685042350824, 29.483062586575997, 28.710959142644565, 29.783496344126863]\n",
      "  tug_utilization: 28.96\n",
      "[0, 0, 0, 0, 0, 2.625, 0, 1.84375, 0, 0, 0.34285714285714286, 0, 0, 0, 0.03125, 0, 6.25, 0, 0, 0, 0, 0, 0.03125, 0, 0.2857142857142857, 9.583333333333334, 0, 0, 0, 0, 0, 0, 6.257142857142857, 0, 0, 0, 0, 0, 5.314285714285714]\n",
      "  aircraft_idle_time: 0.83\n",
      "[576.2341013824885, 564.5590277777778, 556.0512333965844, 575.375, 561.5686635944701, 558.3883928571429, 556.8036866359447, 556.2221198156682, 569.8071428571428, 559.8611111111111, 569.4940092165898, 561.2184331797235, 561.1179723502305, 559.9117647058823, 567.2562211981567, 578.8169642857142, 575.1044642857142, 551.2017857142857, 566.6946428571429, 573.2976958525346, 559.7059907834101, 556.9898617511521, 554.6958525345622, 564.6552995391705, 573.7281105990784, 585.5785714285714, 566.3419642857143, 559.0921658986175, 565.1447004608294, 569.3854166666666, 571.7223214285714, 559.4348214285715, 594.1013824884792, 558.6366071428572, 565.4082949308756, 561.7963133640553, 575.4672811059908, 556.7327188940093, 577.4165898617512]\n",
      "  taxi_time: 566.03\n",
      "\n",
      "GENETIC:\n",
      "[15, 16, 14, 12, 14, 12, 18, 18, 12, 21, 13, 16, 16, 20, 16, 15, 11, 17, 20, 18, 18, 17, 15, 15, 16, 17, 15, 13, 15, 16, 14, 14, 17, 13, 16, 13, 11, 18, 15]\n",
      "  min_tugs: 15.44\n",
      "[5.906457672333508, 5.583388539251407, 6.2095165213588785, 7.597024630854388, 6.208741832825454, 7.383212670406418, 4.884238244647246, 4.889791975133625, 7.355979246502972, 4.292287571069413, 6.953418318344538, 5.515319007004336, 5.667859879321904, 4.309765902104516, 5.541996849341226, 6.015247333301634, 8.099642903239685, 5.1170241167571415, 4.392860533561189, 4.834665783622688, 5.008823344047394, 5.155114558101291, 5.911270983213429, 5.83766429854257, 5.589943814874774, 5.4148590700767745, 5.932762875364548, 6.673180299553925, 5.850398179749716, 5.737695220066256, 6.419396992409931, 6.393168525939565, 5.233787971508969, 6.654627144994921, 5.460090004737092, 6.718984890564885, 8.074320843493492, 4.890763470925549, 5.928221755992117]\n",
      "  tug_utilization: 5.89\n",
      "[0, 26.0, 0, 5.138888888888889, 7.0625, 1.71875, 3.375, 2.625, 7.580808080808081, 16.399305555555557, 0, 0, 1.3125, 0, 3.875, 4.045138888888889, 7.111111111111111, 2.0625, 0, 0, 0, 0, 0, 0, 0, 5.8125, 0, 0, 0, 1.5555555555555556, 0, 4.34375, 0, 0, 0, 0, 0, 0, 0]\n",
      "  aircraft_idle_time: 2.56\n",
      "[575.5861751152074, 562.75, 564.8074003795066, 578.5026785714285, 564.584331797235, 567.5917050691244, 565.4341013824885, 571.3824884792627, 562.2901785714286, 566.7847222222222, 586.6534562211981, 569.0396313364056, 581.241474654378, 566.8074003795066, 570.6589861751152, 572.0508928571428, 567.3419642857143, 554.5169642857143, 558.0098214285714, 564.0479262672811, 574.81875, 570.3907834101383, 574.8405529953917, 564.2092165898617, 576.836866359447, 585.5883928571428, 568.5235023041474, 560.1548387096775, 568.7658986175115, 578.0381944444445, 571.4366071428572, 569, 575.5410138248848, 561.2193548387097, 566.9585253456221, 566.6516129032258, 577.9723502304148, 570.6912442396314, 573.4294930875576]\n",
      "  taxi_time: 569.88\n",
      "  Algorithm  min_tugs_mean  min_tugs_std  tug_utilization_mean  \\\n",
      "0    greedy       3.051282      0.223456             28.937679   \n",
      "1       aco       3.051282      0.223456             28.964811   \n",
      "2   genetic      15.435897      2.436508              5.888295   \n",
      "\n",
      "   tug_utilization_std  taxi_time_mean  taxi_time_std  \\\n",
      "0             1.879139      565.100761       7.602449   \n",
      "1             1.871316      566.026120       9.202569   \n",
      "2             0.965352      569.875628       7.067313   \n",
      "\n",
      "   aircraft_idle_time_mean  aircraft_idle_time_std  \n",
      "0                 0.125778                0.511900  \n",
      "1                 0.834989                2.186058  \n",
      "2                 2.564572                5.094942  \n"
     ]
    }
   ],
   "source": [
    "import numpy as np\n",
    "from scipy.stats import ttest_rel\n",
    "from src.datatypes import Schedule_Algo\n",
    "from main import simulate_data_multiple_runs\n",
    "import matplotlib.pyplot as plt\n",
    "import itertools\n",
    "import pandas as pd\n",
    "\n",
    "# Configuration\n",
    "N_RUNS = 39\n",
    "BASE_SEED = 42\n",
    "\n",
    "RUN_TIME = 6 * 60 * 60\n",
    "AC_FREQ = 10 * 60\n",
    "TAXI_MARGIN = 15 * 60\n",
    "LOADING_TIME = 30 * 60\n",
    "\n",
    "# Scheduler options\n",
    "algorithms = {\n",
    "    \"greedy\": Schedule_Algo.greedy,\n",
    "    \"aco\": Schedule_Algo.aco,\n",
    "    \"genetic\": Schedule_Algo.genetic\n",
    "}\n",
    "\n",
    "# Initialize results dictionary\n",
    "results = {key: {\n",
    "    \"min_tugs\": [],\n",
    "    \"tug_utilization\": [],\n",
    "    \"aircraft_idle_time\": [],\n",
    "    \"taxi_time\": []\n",
    "} for key in algorithms.keys()}\n",
    "\n",
    "# Run simulations\n",
    "for name, scheduler in algorithms.items():\n",
    "    print(f\"\\nRunning simulations for {name.upper()}\")\n",
    "    for i in range(N_RUNS):\n",
    "        print(i)\n",
    "        seed = BASE_SEED + i\n",
    "        output = simulate_data_multiple_runs(\n",
    "            1,RUN_TIME, AC_FREQ, TAXI_MARGIN, LOADING_TIME, scheduler, seed\n",
    "        )\n",
    "        if output is not None:\n",
    "            results[name][\"min_tugs\"].append(output[0][\"min_tugs\"])\n",
    "            results[name][\"tug_utilization\"].append(output[0][\"util_pct_tugs\"])\n",
    "            results[name][\"aircraft_idle_time\"].append(output[0][\"avg_iddle_t_per_ac\"])\n",
    "            results[name][\"taxi_time\"].append(output[0][\"avg_taxi_t_per_ac\"])\n",
    "\n",
    "# Summarize results\n",
    "print(\"\\n=== Average results per algorithm ===\")\n",
    "\n",
    "# Create a dataframe to store results\n",
    "summary_data = []\n",
    "\n",
    "for name, metrics in results.items():\n",
    "    print(f\"\\n{name.upper()}:\")\n",
    "    algo_data = {\"algorithm\": name}\n",
    "    for metric_name, values in metrics.items():\n",
    "        print(values)\n",
    "        avg = np.mean(values)\n",
    "        algo_data[metric_name] = avg\n",
    "        print(f\"  {metric_name}: {avg:.2f}\")\n",
    "    summary_data.append(algo_data)\n",
    "\n",
    "# Convert to DataFrame\n",
    "summary_df = pd.DataFrame(summary_data)\n",
    "\n",
    "# Save to CSV\n",
    "summary_df.to_csv(\"average_results_per_algorithm.csv\", index=False)\n",
    "\n",
    "# import pandas as pd\n",
    "# import numpy as np\n",
    "\n",
    "# # Prepare summary table\n",
    "# summary_rows = []\n",
    "\n",
    "# for algo, metrics in results.items():\n",
    "#     row = {\"Algorithm\": algo}\n",
    "#     for metric_name, values in metrics.items():\n",
    "#         mean_val = np.mean(values)\n",
    "#         std_val = np.std(values, ddof=1)  # Sample standard deviation\n",
    "#         row[f\"{metric_name}_mean\"] = mean_val\n",
    "#         row[f\"{metric_name}_std\"] = std_val\n",
    "#     summary_rows.append(row)\n",
    "\n",
    "# # Create DataFrame\n",
    "# summary_df = pd.DataFrame(summary_rows)\n",
    "\n",
    "# # Reorder columns nicely\n",
    "# columns = [\"Algorithm\",\n",
    "#            \"min_tugs_mean\", \"min_tugs_std\",\n",
    "#            \"tug_utilization_mean\", \"tug_utilization_std\",\n",
    "#            \"taxi_time_mean\", \"taxi_time_std\",\n",
    "#            \"aircraft_idle_time_mean\", \"aircraft_idle_time_std\"]\n",
    "\n",
    "# summary_df = summary_df[columns]\n",
    "\n",
    "# # Display the table\n",
    "# print(summary_df)\n",
    "\n",
    "# # Optional: Save to CSV\n",
    "# summary_df.to_csv(\"summary_statistics_algorithms.csv\", index=False)\n",
    "\n"
   ]
  },
  {
   "cell_type": "markdown",
   "id": "9800d4ac",
   "metadata": {},
   "source": [
    "## Scatterplots of Min number of Tugs and Tug utilization"
   ]
  },
  {
   "cell_type": "code",
   "execution_count": 8,
   "id": "098f3ded",
   "metadata": {},
   "outputs": [
    {
     "data": {
      "image/png": "[encoded data removed]",
      "text/plain": [
       "<Figure size 1800x600 with 6 Axes>"
      ]
     },
     "metadata": {},
     "output_type": "display_data"
    }
   ],
   "source": [
    "import matplotlib.pyplot as plt\n",
    "from matplotlib.ticker import MaxNLocator\n",
    "\n",
    "#------------------------------------\n",
    "# Scatterplots\n",
    "#------------------------------------\n",
    "\n",
    "fig, axes = plt.subplots(1, 3, figsize=(18, 6), sharex=True)\n",
    "fig.suptitle('Tug Scheduling Results per Algorithm', fontsize=16)\n",
    "\n",
    "# Define fixed y-limits\n",
    "min_tugs_ylim = (0.5, 10)        # For Number of Tugs (1-3 tugs)\n",
    "tug_utilization_ylim = (8, 40)    # For Tug Utilization (%) (adjust if needed)\n",
    "\n",
    "# Plotting\n",
    "for idx, (name, metrics) in enumerate(results.items()):\n",
    "    ax = axes[idx]\n",
    "    \n",
    "    # Primary axis: scatterplot for number of tugs\n",
    "    ax.scatter(range(len(metrics[\"min_tugs\"])), metrics[\"min_tugs\"], color='tab:blue', label='Number of Tugs')\n",
    "    ax.set_ylabel('Number of Tugs', color='tab:blue')\n",
    "    ax.set_xlabel('Simulation Run')\n",
    "    ax.tick_params(axis='y', labelcolor='tab:blue')\n",
    "    ax.set_title(algorithms[name])\n",
    "\n",
    "    # Set same y-axis settings for Number of Tugs\n",
    "    ax.yaxis.set_major_locator(MaxNLocator(integer=True))\n",
    "    ax.set_ylim(min_tugs_ylim)\n",
    "\n",
    "    # Secondary y-axis: scatterplot for tug utilization\n",
    "    ax2 = ax.twinx()\n",
    "    ax2.scatter(range(len(metrics[\"tug_utilization\"])), metrics[\"tug_utilization\"], color='tab:orange', label='Tug Utilization')\n",
    "    ax2.set_ylabel('Tug Utilization (%)', color='tab:orange')\n",
    "    ax2.tick_params(axis='y', labelcolor='tab:orange')\n",
    "    \n",
    "    # Set same y-axis settings for Tug Utilization\n",
    "    ax2.set_ylim(tug_utilization_ylim)\n",
    "\n",
    "# Layout optimization\n",
    "plt.tight_layout(rect=[0, 0.03, 1, 0.95])\n",
    "plt.show()\n"
   ]
  },
  {
   "cell_type": "markdown",
   "id": "dc2f6384",
   "metadata": {},
   "source": [
    "## Boxplots of average results"
   ]
  },
  {
   "cell_type": "code",
   "execution_count": 6,
   "id": "c661f204",
   "metadata": {},
   "outputs": [
    {
     "name": "stderr",
     "output_type": "stream",
     "text": [
      "/tmp/ipykernel_47002/39801674.py:15: MatplotlibDeprecationWarning: The 'labels' parameter of boxplot() has been renamed 'tick_labels' since Matplotlib 3.9; support for the old name will be dropped in 3.11.\n",
      "  axes[0, 0].boxplot(tugs_data, labels=algorithm_labels)\n",
      "/tmp/ipykernel_47002/39801674.py:21: MatplotlibDeprecationWarning: The 'labels' parameter of boxplot() has been renamed 'tick_labels' since Matplotlib 3.9; support for the old name will be dropped in 3.11.\n",
      "  axes[0, 1].boxplot(utilization_data, labels=algorithm_labels)\n",
      "/tmp/ipykernel_47002/39801674.py:27: MatplotlibDeprecationWarning: The 'labels' parameter of boxplot() has been renamed 'tick_labels' since Matplotlib 3.9; support for the old name will be dropped in 3.11.\n",
      "  axes[1, 0].boxplot(idle_time_data, labels=algorithm_labels)\n",
      "/tmp/ipykernel_47002/39801674.py:33: MatplotlibDeprecationWarning: The 'labels' parameter of boxplot() has been renamed 'tick_labels' since Matplotlib 3.9; support for the old name will be dropped in 3.11.\n",
      "  axes[1, 1].boxplot(taxi_time_data, labels=algorithm_labels)\n"
     ]
    },
    {
     "data": {
      "image/png": "[encoded data removed]",
      "text/plain": [
       "<Figure size 1400x1000 with 4 Axes>"
      ]
     },
     "metadata": {},
     "output_type": "display_data"
    }
   ],
   "source": [
    "\n",
    "# Algorithm labels\n",
    "algorithm_labels = [\"Greedy\", \"ACO\", \"Genetic\"]\n",
    "\n",
    "# Data extraction\n",
    "tugs_data = [results[\"greedy\"][\"min_tugs\"], results[\"aco\"][\"min_tugs\"], results[\"genetic\"][\"min_tugs\"]]\n",
    "utilization_data = [results[\"greedy\"][\"tug_utilization\"], results[\"aco\"][\"tug_utilization\"], results[\"genetic\"][\"tug_utilization\"]]\n",
    "taxi_time_data = [results[\"greedy\"][\"taxi_time\"], results[\"aco\"][\"taxi_time\"], results[\"genetic\"][\"taxi_time\"]]\n",
    "idle_time_data = [results[\"greedy\"][\"aircraft_idle_time\"], results[\"aco\"][\"aircraft_idle_time\"], results[\"genetic\"][\"aircraft_idle_time\"]]\n",
    "\n",
    "# Create a figure with 2 rows and 2 columns\n",
    "fig, axes = plt.subplots(2, 2, figsize=(14, 10))  # 2 rows, 2 columns\n",
    "fig.suptitle('Performance Comparison of Tug Scheduling Algorithms', fontsize=16)\n",
    "\n",
    "# Plot 1: Number of Tugs\n",
    "axes[0, 0].boxplot(tugs_data, labels=algorithm_labels)\n",
    "axes[0, 0].set_title('Number of Tugs')\n",
    "axes[0, 0].set_ylabel('Tugs')\n",
    "axes[0, 0].grid(axis='y')\n",
    "\n",
    "# Plot 2: Tug Utilization\n",
    "axes[0, 1].boxplot(utilization_data, labels=algorithm_labels)\n",
    "axes[0, 1].set_title('Tug Utilization')\n",
    "axes[0, 1].set_ylabel('Utilization (%)')\n",
    "axes[0, 1].grid(axis='y')\n",
    "\n",
    "# Plot 3: Aircraft Idle Time\n",
    "axes[1, 0].boxplot(idle_time_data, labels=algorithm_labels)\n",
    "axes[1, 0].set_title('Aircraft Idle Time')\n",
    "axes[1, 0].set_ylabel('Idle Time (seconds)')\n",
    "axes[1, 0].grid(axis='y')\n",
    "\n",
    "# Plot 4: Taxi Time\n",
    "axes[1, 1].boxplot(taxi_time_data, labels=algorithm_labels)\n",
    "axes[1, 1].set_title('Taxi Time')\n",
    "axes[1, 1].set_ylabel('Taxi Time (seconds)')\n",
    "axes[1, 1].grid(axis='y')\n",
    "\n",
    "# Layout adjustment\n",
    "plt.tight_layout(rect=[0, 0.03, 1, 0.95])\n",
    "plt.show()\n"
   ]
  },
  {
   "cell_type": "markdown",
   "id": "bfcbd245",
   "metadata": {},
   "source": [
    "## paired-t test"
   ]
  },
  {
   "cell_type": "code",
   "execution_count": 7,
   "id": "4e7d188e",
   "metadata": {},
   "outputs": [
    {
     "name": "stdout",
     "output_type": "stream",
     "text": [
      "\n",
      "=== Paired t-tests for Number of Tugs ===\n",
      "greedy vs aco: t = nan, p = nan → not significant\n",
      "greedy vs genetic: t = -32.498, p = 0.0000 → SIGNIFICANT\n",
      "aco vs genetic: t = -32.498, p = 0.0000 → SIGNIFICANT\n",
      "\n",
      "=== Paired t-tests for Tug Utilization ===\n",
      "greedy vs aco: t = -0.590, p = 0.5589 → not significant\n",
      "greedy vs genetic: t = 78.990, p = 0.0000 → SIGNIFICANT\n",
      "aco vs genetic: t = 79.653, p = 0.0000 → SIGNIFICANT\n",
      "\n",
      "=== Paired t-tests for Taxi Time ===\n",
      "greedy vs aco: t = -1.068, p = 0.2921 → not significant\n",
      "greedy vs genetic: t = -3.969, p = 0.0003 → SIGNIFICANT\n",
      "aco vs genetic: t = -2.844, p = 0.0071 → SIGNIFICANT\n",
      "\n",
      "=== Paired t-tests for Aircraft Idle Time ===\n",
      "greedy vs aco: t = -2.042, p = 0.0481 → SIGNIFICANT\n",
      "greedy vs genetic: t = -2.965, p = 0.0052 → SIGNIFICANT\n",
      "aco vs genetic: t = -1.993, p = 0.0534 → not significant\n",
      "\n",
      "=== Vargha-Delaney A-test for Min Tugs ===\n",
      "greedy vs aco: A = 0.055 → very large difference\n",
      "greedy vs genetic: A = 0.000 → very large difference\n",
      "aco vs genetic: A = 0.000 → very large difference\n",
      "\n",
      "=== Vargha-Delaney A-test for Tug Utilization ===\n",
      "greedy vs aco: A = 0.504 → small difference\n",
      "greedy vs genetic: A = 1.000 → very large difference\n",
      "aco vs genetic: A = 1.000 → very large difference\n"
     ]
    }
   ],
   "source": [
    "\n",
    "# All metrics to test\n",
    "metrics = [\"min_tugs\", \"tug_utilization\", \"taxi_time\", \"aircraft_idle_time\"]\n",
    "metric_labels = {\n",
    "    \"min_tugs\": \"Number of Tugs\",\n",
    "    \"tug_utilization\": \"Tug Utilization\",\n",
    "    \"aircraft_idle_time\": \"Aircraft Idle Time\",\n",
    "    \"taxi_time\": \"Taxi Time\"\n",
    "}\n",
    "\n",
    "# Algorithm names\n",
    "algos = [\"greedy\", \"aco\", \"genetic\"]\n",
    "\n",
    "# All pairwise combinations\n",
    "pairs = list(itertools.combinations(algos, 2))\n",
    "\n",
    "alpha = 0.05\n",
    "\n",
    "# Run paired t-tests\n",
    "for metric in metrics:\n",
    "    print(f\"\\n=== Paired t-tests for {metric_labels[metric]} ===\")\n",
    "    for a1, a2 in pairs:\n",
    "        data1 = results[a1][metric]\n",
    "        data2 = results[a2][metric]\n",
    "\n",
    "        t_stat, p_value = ttest_rel(data1, data2)\n",
    "        significance = \"SIGNIFICANT\" if p_value < alpha else \"not significant\"\n",
    "        print(f\"{a1} vs {a2}: t = {t_stat:.3f}, p = {p_value:.4f} → {significance}\")\n",
    "\n",
    "import itertools\n",
    "import numpy as np\n",
    "\n",
    "# Define Vargha-Delaney A-test\n",
    "def vargha_delaney_A(x, y):\n",
    "    nx = len(x)\n",
    "    ny = len(y)\n",
    "    rank = np.concatenate((x, y)).argsort().argsort() + 1\n",
    "    rank_x = rank[:nx]\n",
    "    A = (np.sum(rank_x) - (nx * (nx + 1) / 2)) / (nx * ny)\n",
    "    return A\n",
    "\n",
    "# Interpret A-value\n",
    "def interpret_A(A):\n",
    "    if A == 0.5:\n",
    "        return \"no difference\"\n",
    "    if A < 0.5:\n",
    "        A = 1 - A  # Symmetrisch interpreteren\n",
    "    if A <= 0.56:\n",
    "        return \"small difference\"\n",
    "    elif A <= 0.64:\n",
    "        return \"medium difference\"\n",
    "    elif A <= 0.71:\n",
    "        return \"large difference\"\n",
    "    else:\n",
    "        return \"very large difference\"\n",
    "\n",
    "# Metrics and algorithm names\n",
    "metrics = [\"min_tugs\", \"tug_utilization\"]\n",
    "algos = [\"greedy\", \"aco\", \"genetic\"]\n",
    "pairs = list(itertools.combinations(algos, 2))\n",
    "\n",
    "# Run Vargha-Delaney A-tests\n",
    "for metric in metrics:\n",
    "    print(f\"\\n=== Vargha-Delaney A-test for {metric.replace('_', ' ').title()} ===\")\n",
    "    for a1, a2 in pairs:\n",
    "        data1 = results[a1][metric]\n",
    "        data2 = results[a2][metric]\n",
    "        A = vargha_delaney_A(data1, data2)\n",
    "        interpretation = interpret_A(A)\n",
    "        print(f\"{a1} vs {a2}: A = {A:.3f} → {interpretation}\")\n",
    "\n",
    "\n"
   ]
  },
  {
   "cell_type": "code",
   "execution_count": null,
   "id": "68313705-952f-40f0-9c15-8d5f245d9544",
   "metadata": {},
   "outputs": [],
   "source": []
  }
 ],
 "metadata": {
  "kernelspec": {
   "display_name": "Python 3 (ipykernel)",
   "language": "python",
   "name": "python3"
  },
  "language_info": {
   "codemirror_mode": {
    "name": "ipython",
    "version": 3
   },
   "file_extension": ".py",
   "mimetype": "text/x-python",
   "name": "python",
   "nbconvert_exporter": "python",
   "pygments_lexer": "ipython3",
   "version": "3.12.9"
  }
 },
 "nbformat": 4,
 "nbformat_minor": 5
}
